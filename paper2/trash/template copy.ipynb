{
 "cells": [
  {
   "cell_type": "code",
   "execution_count": null,
   "metadata": {},
   "outputs": [],
   "source": [
    "import torch\n",
    "import numpy as np\n",
    "import scipy as sp\n",
    "import matplotlib.pyplot as plt\n",
    "from skimage import measure\n",
    "from skimage.transform import resize\n",
    "import plotly.graph_objects as go\n",
    "import time\n",
    "import os\n",
    "device = 'cuda:0'\n",
    "torch.manual_seed(0)\n",
    "torch.cuda.is_available()"
   ]
  },
  {
   "cell_type": "code",
   "execution_count": null,
   "metadata": {},
   "outputs": [],
   "source": [
    "# Visualize Function\n",
    "def visualize(func, thres=1e-6):\n",
    "    verts, faces, _, _ = measure.marching_cubes(func, thres, spacing=(0.1, 0.1, 0.1))\n",
    "    intensity = np.linalg.norm(verts, axis=1)\n",
    "\n",
    "    fig = go.Figure(data=[go.Mesh3d(x=verts[:, 0], y=verts[:, 1], z=verts[:, 2],\n",
    "                                    i=faces[:, 0], j=faces[:, 1], k=faces[:, 2],\n",
    "                                    intensity=intensity,\n",
    "                                    colorscale='Agsunset',\n",
    "                                    opacity=1.0)])\n",
    "\n",
    "    fig.update_layout(scene=dict(xaxis=dict(visible=False),\n",
    "                                 yaxis=dict(visible=False),\n",
    "                                 zaxis=dict(visible=False),\n",
    "                                 bgcolor='rgb(0, 0, 0)'),\n",
    "                      margin=dict(l=0, r=0, b=0, t=0))\n",
    "    fig.show()"
   ]
  },
  {
   "cell_type": "code",
   "execution_count": null,
   "metadata": {},
   "outputs": [],
   "source": [
    "# Density Functional Theory\n",
    "def calculate(config, molecule, result):\n",
    "    t_start = time.time()\n",
    "    \n",
    "    # Config\n",
    "    Atom = []\n",
    "    Qm = np.zeros((3,2))\n",
    "    for i in range(len(molecule[\"element\"])):\n",
    "        Atom.append([molecule[\"element\"][i], np.array([molecule[\"x\"][i], molecule[\"y\"][i], molecule[\"z\"][i]]) * 1.8897])\n",
    "        Qm[:,0] = np.maximum(Qm[:,0], Atom[i][1])\n",
    "        Qm[:,1] = np.minimum(Qm[:,1], Atom[i][1])\n",
    "    for a in Atom:\n",
    "        a[1] -= np.mean(Qm, axis=1)\n",
    "    dx = config[\"dx\"]\n",
    "    bd = config[\"bd\"]\n",
    "    L = config[\"L\"]\n",
    "    N = config[\"N\"]\n",
    "    Z = config[\"Z\"]\n",
    "    lr = config[\"lr\"]\n",
    "    mom = config[\"mom\"]\n",
    "    fast = config[\"fast\"]\n",
    "    ion_ene = config[\"ion_ene\"]\n",
    "    if L is None:\n",
    "        L = (Qm[:,0]-Qm[:,1]+2*bd)\n",
    "    if N is None:\n",
    "        N = np.rint(L/dx).astype('int32')\n",
    "    if Z is None:\n",
    "        Z = sum(molecule[\"element\"])\n",
    "\n",
    "    # Previous Density\n",
    "    Q = np.zeros((3, N[0], N[1], N[2]))\n",
    "    Q[0,:,:,:] = np.linspace(-L[0]/2, L[0]/2, N[0])[:, np.newaxis, np.newaxis]\n",
    "    Q[1,:,:,:] = np.linspace(-L[1]/2, L[1]/2, N[1])[np.newaxis, :, np.newaxis]\n",
    "    Q[2,:,:,:] = np.linspace(-L[2]/2, L[2]/2, N[2])[np.newaxis, np.newaxis, :]\n",
    "    if len(result[\"difference\"]) == 0:\n",
    "        ND0 = 0\n",
    "        for a in Atom:\n",
    "            Za = a[0]\n",
    "            Qa = a[1][:, np.newaxis, np.newaxis, np.newaxis]\n",
    "            Ra = np.sqrt(np.sum((Q-Qa)*(Q-Qa), axis=0))\n",
    "            Ia = ion_ene[Za] / 27.211\n",
    "            ND0 += (Za*np.sqrt(512*(Ia**3))) / (8*np.pi) * np.exp(-np.sqrt(8*Ia)*Ra)\n",
    "        ND0 = ND0.reshape(N[0]*N[1]*N[2])\n",
    "        result[\"parameter\"] = ND0\n",
    "        result[\"gradient\"] = 0\n",
    "        result[\"density\"] = ND0\n",
    "        result[\"N\"] = N\n",
    "        print(\"L:\", L, \"N:\", N)\n",
    "        print(\"Initial:\")\n",
    "        visualize(result[\"parameter\"].reshape(N), 1e-1)\n",
    "    if not np.array_equal(result[\"N\"], N):\n",
    "        result[\"parameter\"] = resize(result[\"parameter\"].reshape(result[\"N\"]), N).reshape(N[0]*N[1]*N[2])\n",
    "        result[\"gradient\"] = resize(result[\"gradient\"].reshape(result[\"N\"]), N).reshape(N[0]*N[1]*N[2])\n",
    "        result[\"density\"] = resize(result[\"density\"].reshape(result[\"N\"]), N).reshape(N[0]*N[1]*N[2])\n",
    "        result[\"N\"] = N\n",
    "        print(\"L:\", L, \"N:\", N)\n",
    "        print(\"Resize:\")\n",
    "        visualize(result[\"parameter\"].reshape(N), 1e-1)\n",
    "    Gra = mom * result[\"gradient\"] + (result[\"parameter\"] - result[\"density\"])\n",
    "    Par = result[\"parameter\"] - lr * Gra\n",
    "    Par *= sum(molecule[\"element\"]) / np.sum(Par*(dx**3))\n",
    "    ND0 = Par\n",
    "    \n",
    "    # Kinetic Energy\n",
    "    D = [sp.sparse.spdiags(np.array([np.ones([N[i]]), -2*np.ones([N[i]]), np.ones([N[i]])]), \n",
    "                           np.array([-1,0,1]), N[i], N[i]) \n",
    "         for i in range(3)]\n",
    "    Lap = sp.sparse.kronsum(sp.sparse.kronsum(D[2],D[1]), D[0]) / (dx**2)\n",
    "    T = -1/2 * Lap\n",
    "\n",
    "    # External Energy\n",
    "    V_ext = 0\n",
    "    for a in Atom:\n",
    "        Za = a[0]\n",
    "        Qa = a[1][:, np.newaxis, np.newaxis, np.newaxis]\n",
    "        V_ext += -Za / (np.sqrt(np.sum((Q-Qa)*(Q-Qa), axis=0)) + 1e-6)\n",
    "    V_ext = sp.sparse.diags(V_ext.reshape(N[0]*N[1]*N[2]))\n",
    "    \n",
    "    # Hartree Energy\n",
    "    V_har = sp.sparse.linalg.cg(Lap, -4*np.pi*ND0)\n",
    "    V_har = sp.sparse.diags(V_har[0])\n",
    "\n",
    "    # Exchange-Correlation Energy\n",
    "    V_xc = -np.cbrt(3/np.pi) * np.cbrt(ND0)\n",
    "    V_xc = sp.sparse.diags(V_xc)\n",
    "    \n",
    "    # Solve\n",
    "    H = (T + V_ext + V_har + V_xc).tocoo()\n",
    "    H = torch.sparse_coo_tensor(indices=torch.tensor(np.vstack([H.row, H.col])), values=torch.tensor(H.data), size=H.shape).to(device)\n",
    "    if fast:\n",
    "        H = H.float()\n",
    "    fn = [2 for i in range(Z//2)]\n",
    "    if Z % 2 == 1:\n",
    "        fn.append(1)\n",
    "    eigval, eigvec = torch.lobpcg(H, len(fn), largest=False)\n",
    "\n",
    "    # Density\n",
    "    orbits = eigvec.T.detach().cpu().numpy()\n",
    "    orbits = orbits / np.sqrt(np.sum(orbits*orbits*(dx**3), axis=1))[:, np.newaxis]\n",
    "    ND = np.zeros(N[0]*N[1]*N[2], dtype=np.float32)\n",
    "    for ne, orb in zip(fn, orbits):\n",
    "        ND += ne*(orb**2)\n",
    "    ND *= sum(molecule[\"element\"]) / np.sum(ND*(dx**3))\n",
    "    Dif = np.sum(np.abs(ND - ND0) * (dx**3))\n",
    "    \n",
    "    # Result\n",
    "    result[\"parameter\"] = Par\n",
    "    result[\"gradient\"] = Gra\n",
    "    result[\"eigenvalue\"] = eigval\n",
    "    result[\"eigenvector\"] = eigvec\n",
    "    result[\"density\"] = ND\n",
    "    result[\"difference\"].append(Dif)\n",
    "    \n",
    "    t_end = time.time()\n",
    "    print(\"Iteration:\", len(result[\"difference\"]), \" / Time:\", t_end-t_start)\n",
    "    print(\"Difference:\", Dif)\n",
    "    visualize(ND.reshape(N), 1e-1)"
   ]
  },
  {
   "cell_type": "code",
   "execution_count": null,
   "metadata": {},
   "outputs": [],
   "source": [
    "def predict(config, molecule, result):\n",
    "    # Config\n",
    "    Atom = []\n",
    "    Qm = np.zeros((3,2))\n",
    "    for i in range(len(molecule[\"element\"])):\n",
    "        Atom.append([molecule[\"element\"][i], np.array([molecule[\"x\"][i], molecule[\"y\"][i], molecule[\"z\"][i]]) * 1.8897])\n",
    "        Qm[:,0] = np.maximum(Qm[:,0], Atom[i][1])\n",
    "        Qm[:,1] = np.minimum(Qm[:,1], Atom[i][1])\n",
    "    for a in Atom:\n",
    "        a[1] -= np.mean(Qm, axis=1)\n",
    "    dx = config[\"dx\"]\n",
    "    bd = config[\"bd\"]\n",
    "    L = config[\"L\"]\n",
    "    N = config[\"N\"]\n",
    "    Z = config[\"Z\"]\n",
    "    mix = config[\"mix\"]\n",
    "    fast = config[\"fast\"]\n",
    "    ion_ene = config[\"ion_ene\"]\n",
    "    if L is None:\n",
    "        L = (Qm[:,0]-Qm[:,1]+2*bd)\n",
    "    if N is None:\n",
    "        N = np.rint(L/dx).astype('int32')\n",
    "    if Z is None:\n",
    "        Z = sum(molecule[\"element\"])\n",
    "    \n",
    "    # Distribution\n",
    "    NE = result[\"priori\"][-2] * (dx**3)\n",
    "    QE = np.zeros((3, N[0], N[1], N[2]))\n",
    "    QE[0,:,:,:] = np.linspace(-L[0]/2, L[0]/2, N[0])[:, np.newaxis, np.newaxis]\n",
    "    QE[1,:,:,:] = np.linspace(-L[1]/2, L[1]/2, N[1])[np.newaxis, :, np.newaxis]\n",
    "    QE[2,:,:,:] = np.linspace(-L[2]/2, L[2]/2, N[2])[np.newaxis, np.newaxis, :]\n",
    "    QE = QE.reshape(3, N[0]*N[1]*N[2])\n",
    "    NA = np.array([a[0] for a in Atom], dtype='float64')\n",
    "    QA = np.array([a[1] for a in Atom], dtype='float64').T\n",
    "    \n",
    "    # Dipole Moment\n",
    "    DM = np.zeros(3)\n",
    "    DM += np.sum(-NE[np.newaxis, :]*QE, axis=1)\n",
    "    DM += np.sum(NA[np.newaxis, :]*QA, axis=1)\n",
    "    \n",
    "    print(NE)\n",
    "    print(QE)\n",
    "    print(NA)\n",
    "    print(QA)\n",
    "    print(np.sum(-NE[np.newaxis, :]*QE, axis=1))\n",
    "    print(np.sum(NA[np.newaxis, :]*QA, axis=1))\n",
    "    \n",
    "    # Result\n",
    "    result[\"distribution\"] = {\"NE\": NE, \"QE\": QE, \"NA\": NA, \"QA\": QA}\n",
    "    result[\"dipole\"] = DM\n",
    "    "
   ]
  },
  {
   "cell_type": "code",
   "execution_count": null,
   "metadata": {},
   "outputs": [],
   "source": [
    "Config = {\n",
    "    \"dx\": 0.5,\n",
    "    \"bd\": 20,\n",
    "    \"L\": None,\n",
    "    \"N\": None,\n",
    "    \"Z\": None,\n",
    "    \"lr\": 0.1,\n",
    "    \"mom\": 0.0,\n",
    "    \"fast\": False,\n",
    "    \"ion_ene\": [0, 13.59844, 24.58738, \n",
    "                5.39171, 9.32269, 8.29803, 11.26030, 14.53414, 13.61806, 17.42282, 21.5646]\n",
    "}\n",
    "Molecule = {\n",
    "\"name\": \"Dopamine\",\n",
    "\"element\": [\n",
    "  8,\n",
    "  8,\n",
    "  7,\n",
    "  6,\n",
    "  6,\n",
    "  6,\n",
    "  6,\n",
    "  6,\n",
    "  6,\n",
    "  6,\n",
    "  6,\n",
    "  1,\n",
    "  1,\n",
    "  1,\n",
    "  1,\n",
    "  1,\n",
    "  1,\n",
    "  1,\n",
    "  1,\n",
    "  1,\n",
    "  1,\n",
    "  1\n",
    "],\n",
    "\"x\": [\n",
    "  -2.2392,\n",
    "  -3.3557,\n",
    "  4.4081,\n",
    "  2.1628,\n",
    "  0.704,\n",
    "  2.9862,\n",
    "  -0.0999,\n",
    "  0.1434,\n",
    "  -1.4642,\n",
    "  -1.2209,\n",
    "  -2.0247,\n",
    "  2.5111,\n",
    "  2.3332,\n",
    "  2.849,\n",
    "  2.6457,\n",
    "  0.3315,\n",
    "  0.7594,\n",
    "  -1.6445,\n",
    "  4.5468,\n",
    "  4.7362,\n",
    "  -3.1541,\n",
    "  -3.5639\n",
    "],\n",
    "\"y\": [\n",
    "  1.9626,\n",
    "  -0.5612,\n",
    "  0.2624,\n",
    "  -0.0212,\n",
    "  -0.1603,\n",
    "  0.1008,\n",
    "  0.9759,\n",
    "  -1.4267,\n",
    "  0.8456,\n",
    "  -1.557,\n",
    "  -0.4208,\n",
    "  -0.8817,\n",
    "  0.8564,\n",
    "  -0.7888,\n",
    "  0.9593,\n",
    "  1.9659,\n",
    "  -2.3195,\n",
    "  -2.5496,\n",
    "  1.0868,\n",
    "  -0.5285,\n",
    "  1.6866,\n",
    "  -1.5074\n",
    "],\n",
    "\"z\": [\n",
    "  0.0548,\n",
    "  0.3868,\n",
    "  0.3445,\n",
    "  -0.6613,\n",
    "  -0.385,\n",
    "  0.6289,\n",
    "  -0.2919,\n",
    "  -0.2187,\n",
    "  -0.0326,\n",
    "  0.0407,\n",
    "  0.1336,\n",
    "  -1.2481,\n",
    "  -1.2993,\n",
    "  1.2541,\n",
    "  1.2192,\n",
    "  -0.4187,\n",
    "  -0.2869,\n",
    "  0.1686,\n",
    "  -0.2388,\n",
    "  -0.2089,\n",
    "  0.2377,\n",
    "  0.4721\n",
    "]\n",
    "}\n",
    "Result = {\n",
    "    \"N\": None,\n",
    "    \"parameter\": None,\n",
    "    \"gradient\": None,\n",
    "    \"eigenvalue\": None,\n",
    "    \"eigenvector\": None,\n",
    "    \"density\": None,\n",
    "    \"difference\": []\n",
    "}\n",
    "Load = None\n",
    "Save = None"
   ]
  },
  {
   "cell_type": "code",
   "execution_count": null,
   "metadata": {},
   "outputs": [],
   "source": [
    "if Load is not None and os.path.exists(Load):\n",
    "    Result[\"priori\"].append(np.load(Load))"
   ]
  },
  {
   "cell_type": "code",
   "execution_count": null,
   "metadata": {
    "scrolled": true
   },
   "outputs": [],
   "source": [
    "Config[\"lr\"] = 0.1\n",
    "for i in range(len(Result[\"difference\"]), len(Result[\"difference\"])+100):\n",
    "    calculate(Config, Molecule, Result)\n",
    "    if i>=10 and Result[\"difference\"][i]>Result[\"difference\"][i-10]:\n",
    "        break        "
   ]
  },
  {
   "cell_type": "code",
   "execution_count": null,
   "metadata": {
    "scrolled": true
   },
   "outputs": [],
   "source": [
    "Config[\"lr\"] = 0.01\n",
    "for i in range(len(Result[\"difference\"]), len(Result[\"difference\"])+100):\n",
    "    calculate(Config, Molecule, Result)\n",
    "    if i>=10 and Result[\"difference\"][i]>Result[\"difference\"][i-10]:\n",
    "        break        "
   ]
  },
  {
   "cell_type": "code",
   "execution_count": null,
   "metadata": {},
   "outputs": [],
   "source": [
    "Config = {\n",
    "    \"dx\": 0.5,\n",
    "    \"bd\": 20,\n",
    "    \"L\": None,\n",
    "    \"N\": None,\n",
    "    \"Z\": None,\n",
    "    \"lr\": 0.1,\n",
    "    \"mom\": 0.0,\n",
    "    \"fast\": False,\n",
    "    \"ion_ene\": [0, 13.59844, 24.58738, \n",
    "                5.39171, 9.32269, 8.29803, 11.26030, 14.53414, 13.61806, 17.42282, 21.5646]\n",
    "}"
   ]
  },
  {
   "cell_type": "code",
   "execution_count": null,
   "metadata": {},
   "outputs": [],
   "source": [
    "Result[\"N\"]"
   ]
  },
  {
   "cell_type": "code",
   "execution_count": null,
   "metadata": {
    "scrolled": false
   },
   "outputs": [],
   "source": [
    "Config[\"dx\"] = 0.4\n",
    "for i in range(len(Result[\"difference\"]), len(Result[\"difference\"])+100):\n",
    "    calculate(Config, Molecule, Result)\n",
    "    if i>=10 and Result[\"difference\"][i]>Result[\"difference\"][i-10]:\n",
    "        break        "
   ]
  },
  {
   "cell_type": "code",
   "execution_count": null,
   "metadata": {},
   "outputs": [],
   "source": []
  },
  {
   "cell_type": "code",
   "execution_count": null,
   "metadata": {},
   "outputs": [],
   "source": []
  },
  {
   "cell_type": "code",
   "execution_count": null,
   "metadata": {},
   "outputs": [],
   "source": []
  },
  {
   "cell_type": "code",
   "execution_count": null,
   "metadata": {},
   "outputs": [],
   "source": [
    "print(np.prod(Config[\"N\"]))"
   ]
  },
  {
   "cell_type": "code",
   "execution_count": null,
   "metadata": {},
   "outputs": [],
   "source": [
    "print(Result[\"parameter\"].shape[0])"
   ]
  },
  {
   "cell_type": "code",
   "execution_count": null,
   "metadata": {},
   "outputs": [],
   "source": [
    "np.prod(Config[\"N\"]) == Result[\"parameter\"].shape[0]"
   ]
  },
  {
   "cell_type": "code",
   "execution_count": null,
   "metadata": {},
   "outputs": [],
   "source": [
    "type(Result[\"parameter\"].reshape(Config[\"N\"]).shape)"
   ]
  },
  {
   "cell_type": "code",
   "execution_count": null,
   "metadata": {},
   "outputs": [],
   "source": [
    "np.array_equal(Config[\"N\"], Result[\"parameter\"].reshape(Config[\"N\"]).shape)"
   ]
  },
  {
   "cell_type": "code",
   "execution_count": null,
   "metadata": {},
   "outputs": [],
   "source": [
    "print(Result[\"parameter\"].reshape(Config[\"N\"]).shape)"
   ]
  },
  {
   "cell_type": "code",
   "execution_count": null,
   "metadata": {},
   "outputs": [],
   "source": [
    "A = Result[\"parameter\"].reshape(Config[\"N\"])"
   ]
  },
  {
   "cell_type": "code",
   "execution_count": null,
   "metadata": {},
   "outputs": [],
   "source": [
    "B = resize(A, (220, 194, 180))"
   ]
  },
  {
   "cell_type": "code",
   "execution_count": null,
   "metadata": {},
   "outputs": [],
   "source": [
    "visualize(B, 1e-1)"
   ]
  },
  {
   "cell_type": "code",
   "execution_count": null,
   "metadata": {},
   "outputs": [],
   "source": []
  },
  {
   "cell_type": "code",
   "execution_count": null,
   "metadata": {},
   "outputs": [],
   "source": [
    "visualize(Result[\"parameter\"].reshape(Config[\"N\"]), 1e-1)"
   ]
  },
  {
   "cell_type": "code",
   "execution_count": null,
   "metadata": {},
   "outputs": [],
   "source": [
    "visualize(Result[\"density\"].reshape(Config[\"N\"]), 1e-2)"
   ]
  },
  {
   "cell_type": "code",
   "execution_count": null,
   "metadata": {},
   "outputs": [],
   "source": [
    "visualize(Result[\"gradient\"].reshape(Config[\"N\"]), 1e-2)"
   ]
  },
  {
   "cell_type": "code",
   "execution_count": null,
   "metadata": {},
   "outputs": [],
   "source": []
  },
  {
   "cell_type": "code",
   "execution_count": null,
   "metadata": {},
   "outputs": [],
   "source": []
  },
  {
   "cell_type": "code",
   "execution_count": null,
   "metadata": {},
   "outputs": [],
   "source": []
  },
  {
   "cell_type": "code",
   "execution_count": null,
   "metadata": {},
   "outputs": [],
   "source": []
  },
  {
   "cell_type": "code",
   "execution_count": null,
   "metadata": {},
   "outputs": [],
   "source": []
  },
  {
   "cell_type": "code",
   "execution_count": null,
   "metadata": {},
   "outputs": [],
   "source": []
  },
  {
   "cell_type": "code",
   "execution_count": null,
   "metadata": {},
   "outputs": [],
   "source": []
  },
  {
   "cell_type": "code",
   "execution_count": null,
   "metadata": {},
   "outputs": [],
   "source": []
  },
  {
   "cell_type": "code",
   "execution_count": null,
   "metadata": {},
   "outputs": [],
   "source": []
  },
  {
   "cell_type": "code",
   "execution_count": null,
   "metadata": {},
   "outputs": [],
   "source": []
  },
  {
   "cell_type": "code",
   "execution_count": null,
   "metadata": {},
   "outputs": [],
   "source": []
  },
  {
   "cell_type": "code",
   "execution_count": null,
   "metadata": {},
   "outputs": [],
   "source": []
  },
  {
   "cell_type": "code",
   "execution_count": null,
   "metadata": {},
   "outputs": [],
   "source": []
  },
  {
   "cell_type": "code",
   "execution_count": null,
   "metadata": {},
   "outputs": [],
   "source": []
  },
  {
   "cell_type": "code",
   "execution_count": null,
   "metadata": {},
   "outputs": [],
   "source": []
  },
  {
   "cell_type": "code",
   "execution_count": null,
   "metadata": {},
   "outputs": [],
   "source": []
  },
  {
   "cell_type": "code",
   "execution_count": null,
   "metadata": {},
   "outputs": [],
   "source": []
  },
  {
   "cell_type": "code",
   "execution_count": null,
   "metadata": {},
   "outputs": [],
   "source": []
  },
  {
   "cell_type": "code",
   "execution_count": null,
   "metadata": {},
   "outputs": [],
   "source": []
  },
  {
   "cell_type": "code",
   "execution_count": null,
   "metadata": {},
   "outputs": [],
   "source": []
  },
  {
   "cell_type": "code",
   "execution_count": null,
   "metadata": {},
   "outputs": [],
   "source": [
    "Config[\"lr\"] = 0.01"
   ]
  },
  {
   "cell_type": "code",
   "execution_count": null,
   "metadata": {
    "scrolled": true
   },
   "outputs": [],
   "source": [
    "for i in range(100):\n",
    "    calculate(Config, Molecule, Result)\n",
    "    if Result[\"difference\"][-1] < 1:\n",
    "        break"
   ]
  },
  {
   "cell_type": "code",
   "execution_count": null,
   "metadata": {},
   "outputs": [],
   "source": [
    "Config[\"lr\"] = 0.001"
   ]
  },
  {
   "cell_type": "code",
   "execution_count": null,
   "metadata": {
    "scrolled": true
   },
   "outputs": [],
   "source": [
    "for i in range(100):\n",
    "    calculate(Config, Molecule, Result)\n",
    "    if Result[\"difference\"][-1] < 1:\n",
    "        break"
   ]
  },
  {
   "cell_type": "code",
   "execution_count": null,
   "metadata": {},
   "outputs": [],
   "source": [
    "Config[\"lr\"] = 0.0001"
   ]
  },
  {
   "cell_type": "code",
   "execution_count": null,
   "metadata": {
    "scrolled": false
   },
   "outputs": [],
   "source": [
    "for i in range(100):\n",
    "    calculate(Config, Molecule, Result)\n",
    "    if Result[\"difference\"][-1] < 1:\n",
    "        visualize(Result[\"density\"].reshape([119, 95, 83]), 1e-3)\n",
    "        break"
   ]
  },
  {
   "cell_type": "code",
   "execution_count": null,
   "metadata": {},
   "outputs": [],
   "source": [
    "np.save('dopamine.npy', Result[\"parameter\"][-1])"
   ]
  },
  {
   "cell_type": "code",
   "execution_count": null,
   "metadata": {},
   "outputs": [],
   "source": [
    "visualize(Result[\"parameter\"][-1].reshape([119, 95, 83]), 1e-3)"
   ]
  },
  {
   "cell_type": "code",
   "execution_count": null,
   "metadata": {},
   "outputs": [],
   "source": [
    "visualize(Result[\"density\"][-1].reshape([119, 95, 83]), 1e-3)"
   ]
  },
  {
   "cell_type": "code",
   "execution_count": null,
   "metadata": {
    "scrolled": false
   },
   "outputs": [],
   "source": [
    "for i in range(-10, 0):\n",
    "    visualize(Result[\"gradient\"][i].reshape([119, 95, 83]), 1e-3)"
   ]
  },
  {
   "cell_type": "code",
   "execution_count": null,
   "metadata": {},
   "outputs": [],
   "source": [
    "predict(Config, Molecule, Result)"
   ]
  },
  {
   "cell_type": "code",
   "execution_count": null,
   "metadata": {},
   "outputs": [],
   "source": [
    "if Save is not None:\n",
    "    np.savez(Save, \n",
    "             NE=Result[\"distribution\"][\"NE\"], QE=Result[\"distribution\"][\"QE\"], \n",
    "             NA=Result[\"distribution\"][\"NA\"], QA=Result[\"distribution\"][\"QA\"])"
   ]
  }
 ],
 "metadata": {
  "kernelspec": {
   "display_name": "local-venv",
   "language": "python",
   "name": "local-venv"
  },
  "language_info": {
   "codemirror_mode": {
    "name": "ipython",
    "version": 3
   },
   "file_extension": ".py",
   "mimetype": "text/x-python",
   "name": "python",
   "nbconvert_exporter": "python",
   "pygments_lexer": "ipython3",
   "version": "3.8.10"
  }
 },
 "nbformat": 4,
 "nbformat_minor": 4
}

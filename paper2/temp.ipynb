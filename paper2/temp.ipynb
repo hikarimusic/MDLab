{
 "cells": [
  {
   "cell_type": "code",
   "execution_count": null,
   "metadata": {},
   "outputs": [],
   "source": [
    "import torch\n",
    "import numpy as np\n",
    "import scipy as sp\n",
    "import matplotlib.pyplot as plt\n",
    "from skimage import measure\n",
    "from skimage.transform import resize\n",
    "import plotly.graph_objects as go\n",
    "import time\n",
    "import os\n",
    "device = 'cuda:0'\n",
    "torch.manual_seed(0)\n",
    "torch.cuda.is_available()"
   ]
  },
  {
   "cell_type": "code",
   "execution_count": null,
   "metadata": {},
   "outputs": [],
   "source": [
    "met = np.load('Methanol.npz')"
   ]
  },
  {
   "cell_type": "code",
   "execution_count": null,
   "metadata": {},
   "outputs": [],
   "source": [
    "for k in met:\n",
    "    print(k)"
   ]
  },
  {
   "cell_type": "code",
   "execution_count": null,
   "metadata": {},
   "outputs": [],
   "source": [
    "met['energy']"
   ]
  },
  {
   "cell_type": "code",
   "execution_count": null,
   "metadata": {},
   "outputs": [],
   "source": [
    "    # Partial Charge\n",
    "    QA = np.array([a[1] for a in Atom], dtype='float64').T\n",
    "    NA = np.array([a[0] for a in Atom], dtype='float64')\n",
    "    NE = NI * X3\n",
    "    PC = np.zeros(len(Atom))\n",
    "    vc = np.zeros(len(Atom), dtype=int)\n",
    "    dis = np.zeros((N**3, len(Atom)))\n",
    "    for i, a in enumerate(Atom):\n",
    "        Qa = a[1][:, np.newaxis, np.newaxis, np.newaxis]\n",
    "        dis[:,i] = np.sqrt(np.sum((Q-Qa)*(Q-Qa), axis=0)).reshape(N**3)\n",
    "    arg = np.argmin(dis, axis=1)\n",
    "    np.add.at(vc, arg, 1)\n",
    "    vol = np.min(vc)\n",
    "    for i, a in enumerate(Atom):\n",
    "        ne_s = np.sort(NE[arg==i])\n",
    "        PC[i] += np.sum(ne_s[-vol:])\n",
    "    print(PC)\n",
    "    print(vc)\n",
    "    PC -= NA\n",
    "#     print(PC)\n",
    "#     print(np.sum(PC))\n",
    "    return"
   ]
  },
  {
   "cell_type": "code",
   "execution_count": null,
   "metadata": {},
   "outputs": [],
   "source": [
    "# Density Functional Theory\n",
    "def calculate(config, molecule, train, result):\n",
    "    t_start = time.time()\n",
    "    gc.collect()\n",
    "    torch.cuda.empty_cache()\n",
    "    \n",
    "    # Config\n",
    "    Atom = []\n",
    "    Qm = np.zeros((3,3))\n",
    "    for i in range(len(molecule[\"element\"])):\n",
    "        Atom.append([molecule[\"element\"][i], np.array([molecule[\"x\"][i], molecule[\"y\"][i], molecule[\"z\"][i]]) * 1.889726125])\n",
    "        Qm[:,0] = np.maximum(Qm[:,0], Atom[i][1])\n",
    "        Qm[:,1] = np.minimum(Qm[:,1], Atom[i][1])\n",
    "        Qm[:,2] += Atom[i][0] * Atom[i][1]\n",
    "    Qc = Qm[:,2] / sum(molecule[\"element\"])\n",
    "    Qm -= Qc\n",
    "    for a in Atom:\n",
    "        a[1] -= Qc\n",
    "    dx = config[\"dx\"]\n",
    "    sl = config[\"sl\"]\n",
    "    L = config[\"L\"]\n",
    "    N = config[\"N\"]\n",
    "    Z = config[\"Z\"] + sum(molecule[\"element\"])\n",
    "    lr = config[\"lr\"]\n",
    "    fast = config[\"fast\"]\n",
    "    lumo = config[\"lumo\"]\n",
    "    ion_ene = config[\"ion_ene\"]\n",
    "    \n",
    "    # Grid Space\n",
    "    rX = np.full(N, dx)\n",
    "    if L > np.sum(rX):\n",
    "        ps = L - np.sum(rX)\n",
    "        pw = round(1/2 + np.sqrt(1+4*ps/sl)/2)\n",
    "        ph = (pw-1) * sl\n",
    "        rX[:pw]  += np.linspace(ph, 0, pw)\n",
    "        rX[-pw:] += np.linspace(0, ph, pw)\n",
    "    X = np.zeros((3, N, N, N))\n",
    "    X[0,:,:,:] = rX[:, np.newaxis, np.newaxis]\n",
    "    X[1,:,:,:] = rX[np.newaxis, :, np.newaxis]\n",
    "    X[2,:,:,:] = rX[np.newaxis, np.newaxis, :]\n",
    "    X3 = (X[0]*X[1]*X[2]).reshape(N**3)\n",
    "    rQ = np.cumsum(rX) - rX/2\n",
    "    rQ -= np.mean(rQ)\n",
    "    Q = np.zeros((3, N, N, N))\n",
    "    Q[0,:,:,:] = rQ[:, np.newaxis, np.newaxis]\n",
    "    Q[1,:,:,:] = rQ[np.newaxis, :, np.newaxis]\n",
    "    Q[2,:,:,:] = rQ[np.newaxis, np.newaxis, :]\n",
    "    L = np.sum(rX)\n",
    "    \n",
    "    # Initial Density\n",
    "    if len(train[\"difference\"]) == 0:\n",
    "        NI = 0\n",
    "        for a in Atom:\n",
    "            Za = a[0]\n",
    "            Qa = a[1][:, np.newaxis, np.newaxis, np.newaxis]\n",
    "            Ra = np.sqrt(np.sum((Q-Qa)*(Q-Qa), axis=0))\n",
    "            Ia = ion_ene[Za] / 27.211\n",
    "            NI += (Za*np.sqrt(512*(Ia**3))) / (8*np.pi) * np.exp(-np.sqrt(8*Ia)*Ra)\n",
    "        NI = NI.reshape(N**3)\n",
    "        NI *= Z / np.sum(NI*X3)\n",
    "        train[\"density_i\"] = [NI, NI, NI]\n",
    "        train[\"density_o\"] = [NI, NI, NI]\n",
    "        train[\"density_f\"] = [0, 0, 0]\n",
    "        train[\"N\"] = N\n",
    "        result[\"loss\"] = 1e9\n",
    "        print(\"L:\", L, \" N:\", N, \" dx:\", (np.min(rX), np.max(rX)))\n",
    "        print(\"Initial:\")\n",
    "        visualize(NI.reshape([N,N,N]), 1e-1)\n",
    "    \n",
    "    # Density Mixing\n",
    "    NIp = train[\"density_i\"]\n",
    "    NOp = train[\"density_o\"]\n",
    "    NFp = train[\"density_f\"]\n",
    "    pX = np.array([1, 0, 0])\n",
    "    if len(train[\"difference\"])>3:\n",
    "        pA = np.array([[np.sum(NFp[0]*NFp[0]), np.sum(NFp[0]*NFp[1]), np.sum(NFp[0]*NFp[2]), 1],\n",
    "                       [np.sum(NFp[1]*NFp[0]), np.sum(NFp[1]*NFp[1]), np.sum(NFp[1]*NFp[2]), 1],\n",
    "                       [np.sum(NFp[2]*NFp[0]), np.sum(NFp[2]*NFp[1]), np.sum(NFp[2]*NFp[2]), 1],\n",
    "                       [                    1,                     1,                     1, 0]])\n",
    "        pB = np.array([0, 0, 0, 1])\n",
    "        pX = np.linalg.solve(pA, pB)\n",
    "    NIm = pX[0] * NIp[0] + pX[1] * NIp[1] + pX[2] * NIp[2]\n",
    "    NOm = pX[0] * NOp[0] + pX[1] * NOp[1] + pX[2] * NOp[2]\n",
    "    NI = (1-lr) * NIm + lr * NOm\n",
    "    if np.min(NI) < 0:\n",
    "        NI = (1-lr) * NIp[0] + lr * NOp[0]\n",
    "    NI *= Z / np.sum(NI*X3)\n",
    "    \n",
    "    # Kinetic Energy\n",
    "    ra = np.roll(rX, 1)\n",
    "    rb = np.roll(rX, 0)\n",
    "    rc = np.roll(rX, -1)\n",
    "    da = 1 / ((ra/2+rb/2) ** 2)\n",
    "    db = - 1 / ((ra/2+rb/2) ** 2) - 1 / ((rb/2+rc/2) ** 2)\n",
    "    dc = 1 / ((rb/2+rc/2) ** 2)\n",
    "    D = sp.sparse.spdiags(np.array([np.roll(da,-1), np.roll(db,0), np.roll(dc,1)]), [-1, 0, 1], (N,N))\n",
    "    Lap = sp.sparse.kronsum(sp.sparse.kronsum(D,D), D)\n",
    "    T = -1/2 * Lap\n",
    "\n",
    "    # External Energy\n",
    "    V_ext0 = 0\n",
    "    for a in Atom:\n",
    "        Za = a[0]\n",
    "        Qa = a[1][:, np.newaxis, np.newaxis, np.newaxis]\n",
    "        V_ext0 += -Za / (np.sqrt(np.sum((Q-Qa)*(Q-Qa), axis=0)) + 1e-6)\n",
    "    V_ext = sp.sparse.diags(V_ext0.reshape(N**3))\n",
    "    \n",
    "    # Hartree Energy\n",
    "    V_har0 = sp.sparse.linalg.cg(Lap, -4*np.pi*NI)[0]\n",
    "    V_har = sp.sparse.diags(V_har0)\n",
    "\n",
    "    # Exchange Energy\n",
    "    rho = torch.tensor(NI.reshape([N,N,N]), requires_grad=True)\n",
    "    g_rho = torch.gradient(rho, spacing = [torch.tensor(rQ) for i in range(3)])\n",
    "    g_rho = torch.sqrt(g_rho[0]*g_rho[0] + g_rho[1]*g_rho[1] + g_rho[2]*g_rho[2])\n",
    "    ep_x = -(3/4) * np.power(3/np.pi, 1/3) * torch.pow(rho, 1/3)\n",
    "    px = (g_rho/torch.pow(rho, 4/3)) * (2/9) * np.power(np.pi/3, 1/3)\n",
    "    ED_x = rho * ep_x * (3*(px**2)+(np.pi**2)*torch.log(px+1)) / ((3*px+np.pi**2)*torch.log(px+1))\n",
    "    ES_x = torch.sum(ED_x)\n",
    "    ES_x.backward()\n",
    "    V_exc0 = rho.grad.detach().numpy().reshape(N**3)\n",
    "    V_exc = sp.sparse.diags(V_exc0)\n",
    "    \n",
    "    # Correlation Energy\n",
    "    rho = torch.tensor(NI.reshape([N,N,N]), requires_grad=True)\n",
    "    g_rho = torch.gradient(rho, spacing = [torch.tensor(rQ) for i in range(3)])\n",
    "    g_rho = torch.sqrt(g_rho[0]*g_rho[0] + g_rho[1]*g_rho[1] + g_rho[2]*g_rho[2])\n",
    "    pa = (np.log(2)-1) / (2*(np.pi**2))\n",
    "    pb = 20.4562557\n",
    "    rs = torch.pow(4*np.pi*rho/3, -1/3)\n",
    "    ep_c = pa * torch.log(1+pb/rs+pb/(rs**2))\n",
    "    pt = np.power(np.pi/3, 1/6) * (1/4) * (g_rho/torch.pow(rho, 7/6))\n",
    "    ph = 0.06672632\n",
    "    ED_c = rho * ep_c * torch.pow(1+pt**2, ph/ep_c)\n",
    "    ES_c = torch.sum(ED_c)\n",
    "    ES_c.backward()\n",
    "    V_cor0 = rho.grad.detach().numpy().reshape(N**3)\n",
    "    V_cor = sp.sparse.diags(V_cor0)\n",
    "\n",
    "    # Solve\n",
    "    H = (T + V_ext + V_har + V_exc + V_cor).tocoo()\n",
    "    H = torch.sparse_coo_tensor(indices=torch.tensor(np.vstack([H.row, H.col])), values=torch.tensor(H.data), size=H.shape).to(device)\n",
    "    if fast:\n",
    "        H = H.float()\n",
    "    fn = [2 for i in range(Z//2)]\n",
    "    if Z % 2 == 1:\n",
    "        fn.append(1)\n",
    "    eigval, eigvec = torch.lobpcg(H, len(fn)+lumo, largest=False)\n",
    "\n",
    "    # Density\n",
    "    orbits_e = eigval.detach().cpu().numpy()\n",
    "    orbits = eigvec.T.detach().cpu().numpy()\n",
    "    orbits = orbits / np.sqrt(np.sum(orbits*orbits*X3, axis=1))[:, np.newaxis]\n",
    "    NO = np.zeros(N**3, dtype=np.float32)\n",
    "    for ne, orb in zip(fn, orbits[:len(fn)]):\n",
    "        NO += ne * (orb**2)\n",
    "    NO *= Z / np.sum(NO*X3)\n",
    "    NF = NO - NI\n",
    "    Dif = np.sum(np.abs(NF) * X3)\n",
    "    \n",
    "    # Distribution\n",
    "    QA = np.array([a[1] for a in Atom], dtype='float64').T\n",
    "    NA = np.array([a[0] for a in Atom], dtype='float64')\n",
    "    QE = Q.reshape((3, N**3))\n",
    "    NE = NI * X3\n",
    "\n",
    "    # Total Energy\n",
    "    EN = 0\n",
    "    for ne, orb_e in zip(fn, orbits_e[:len(fn)]):\n",
    "        EN += ne * orb_e\n",
    "    EN -= np.sum((1/2) * V_har0 * NI * X3)\n",
    "    EN -= np.sum(V_exc0 * NI * X3)\n",
    "    EN -= np.sum(V_cor0 * NI * X3)\n",
    "    EN += np.sum(ED_x.detach().numpy().reshape(N**3) * X3)\n",
    "    EN += np.sum(ED_c.detach().numpy().reshape(N**3) * X3)\n",
    "    for i in range(len(Atom)):\n",
    "        for j in range(i+1, len(Atom)):\n",
    "            EN += Atom[i][0] * Atom[j][0] / np.sqrt(np.sum((Atom[i][1]-Atom[j][1])**2))\n",
    "\n",
    "    # Dipole Moment\n",
    "    DM = np.zeros(3)\n",
    "    DM += np.sum(NA[np.newaxis, :]*QA, axis=1)\n",
    "    DM += np.sum(-NE[np.newaxis, :]*QE, axis=1)\n",
    "    \n",
    "    # Partial Charge\n",
    "    PC = np.zeros(len(Atom))\n",
    "    dis = np.zeros((N**3, len(Atom)))\n",
    "    for i, a in enumerate(Atom):\n",
    "        Qa = a[1][:, np.newaxis, np.newaxis, np.newaxis]\n",
    "        dis[:,i] = np.sqrt(np.sum((Q-Qa)*(Q-Qa), axis=0)).reshape(N**3)\n",
    "    arg = np.argmin(dis, axis=1)\n",
    "    np.add.at(PC, arg, NE)\n",
    "    PC -= NA\n",
    "    \n",
    "    # Train\n",
    "    train[\"density_i\"] = [NI, NIp[0], NIp[1]]\n",
    "    train[\"density_o\"] = [NO, NOp[0], NOp[1]]\n",
    "    train[\"density_f\"] = [NF, NFp[0], NFp[1]]\n",
    "    train[\"difference\"].append(Dif)\n",
    "    \n",
    "    # Result\n",
    "    if Dif < result[\"loss\"]:\n",
    "        result[\"orbits\"] = orbits\n",
    "        result[\"orbits_e\"] = orbits_e\n",
    "        result[\"density\"] = NI\n",
    "        result[\"energy\"] = EN\n",
    "        result[\"dipole\"] = DM\n",
    "        result[\"charge\"] = PC\n",
    "        result[\"shape\"] = [N, N, N]\n",
    "        result[\"space\"] = [L, L, L]\n",
    "        result[\"grid\"] = rX\n",
    "        result[\"Q_atom\"] = QA.T\n",
    "        result[\"N_atom\"] = NA\n",
    "        result[\"loss\"] = Dif\n",
    "    \n",
    "    t_end = time.time()\n",
    "    print(\"Iteration:\", len(train[\"difference\"]), \" / Time:\", t_end-t_start)\n",
    "    print(\"Difference:\", Dif, \" Energy:\", EN)\n",
    "    visualize(NO.reshape([N,N,N]), 1e-1)"
   ]
  },
  {
   "cell_type": "code",
   "execution_count": null,
   "metadata": {},
   "outputs": [],
   "source": [
    "import numpy as np\n",
    "a = np.array([-0.0343604951, 0.9775395708, 0.0076015923])\n",
    "b = np.array([0.0647664923, 0.0205721989, 0.0015346341])\n",
    "c = np.array([0.8717903737, 1.3007924048, 0.0006931336])\n",
    "L = np.linalg.norm(a-b)\n",
    "P = np.sum((a-b) * (a-c)) / np.linalg.norm(a-b) / np.linalg.norm(a-c)\n",
    "T = np.arccos(P)\n",
    "print(\"x\", L*np.sin(T/2))\n",
    "print(\"z\", L*np.cos(T/2))"
   ]
  },
  {
   "cell_type": "code",
   "execution_count": null,
   "metadata": {},
   "outputs": [],
   "source": [
    "import numpy as np\n",
    "a = np.array([0, 0, 0])\n",
    "b = np.array([0.757, 0, -0.5871])\n",
    "c = np.array([-0.757, 0, -0.5871])\n",
    "np.linalg.norm(a-b)\n",
    "np.sum((a-b) * (a-c)) / np.linalg.norm(a-b) / np.linalg.norm(a-c)"
   ]
  },
  {
   "cell_type": "code",
   "execution_count": null,
   "metadata": {},
   "outputs": [],
   "source": [
    "a = np.array([1, 4, 2, 5, 3, 6])\n",
    "a<4"
   ]
  },
  {
   "cell_type": "code",
   "execution_count": null,
   "metadata": {},
   "outputs": [],
   "source": [
    "import scipy as sp\n",
    "v = np.array([1, 2, 3, 4, 5])\n",
    "a = sp.sparse.diags([v], [0], format='csr')\n",
    "b = (np.abs(v-3))<1.5"
   ]
  },
  {
   "cell_type": "code",
   "execution_count": null,
   "metadata": {},
   "outputs": [],
   "source": [
    "a[b,:][:,b]"
   ]
  },
  {
   "cell_type": "code",
   "execution_count": null,
   "metadata": {},
   "outputs": [],
   "source": [
    "a[3,3]"
   ]
  },
  {
   "cell_type": "code",
   "execution_count": null,
   "metadata": {},
   "outputs": [],
   "source": [
    "import numpy as np\n",
    "a = np.array([3, 2, 1, 3, 4, 5])\n",
    "g = np.gradient(a)\n",
    "g"
   ]
  },
  {
   "cell_type": "code",
   "execution_count": null,
   "metadata": {},
   "outputs": [],
   "source": [
    "ve = np.zeros((3, 3, 3, 3))\n",
    "ve[0,:,:,:] = np.arange(-1,2)[:, np.newaxis, np.newaxis]\n",
    "ve[1,:,:,:] = np.arange(-1,2)[np.newaxis, :, np.newaxis]\n",
    "ve[2,:,:,:] = np.arange(-1,2)[np.newaxis, np.newaxis, :]\n",
    "ve"
   ]
  },
  {
   "cell_type": "code",
   "execution_count": null,
   "metadata": {},
   "outputs": [],
   "source": []
  },
  {
   "cell_type": "code",
   "execution_count": null,
   "metadata": {},
   "outputs": [],
   "source": []
  },
  {
   "cell_type": "code",
   "execution_count": null,
   "metadata": {},
   "outputs": [],
   "source": []
  },
  {
   "cell_type": "code",
   "execution_count": null,
   "metadata": {},
   "outputs": [],
   "source": []
  },
  {
   "cell_type": "code",
   "execution_count": null,
   "metadata": {},
   "outputs": [],
   "source": [
    "def partition(NE, N):\n",
    "    PAR = np.full(N, -1)\n",
    "    p_par = np.moveaxis(np.meshgrid(np.arange(N[0]), np.arange(N[1]), np.arange(N[2]), indexing='ij'), 0, -1)\n",
    "    p_cor = np.zeros((N[0], N[1], N[2], 3))\n",
    "    p_max = np.full(N, False)\n",
    "    p_max[1:N[0]-1, 1:N[1]-1, 1:N[2]-1] = True\n",
    "    v_dir = np.moveaxis(np.meshgrid(np.arange(-1, 2), np.arange(-1, 2), np.arange(-1, 2), indexing='ij'), 0, -1)\n",
    "    for x, y, z in v_dir.reshape((27, 3)):\n",
    "        if (x, y, z) == (0, 0, 0):\n",
    "            continue\n",
    "        p_max[1:N[0]-1, 1:N[1]-1, 1:N[2]-1] *= NE.reshape(N)[1:N[0]-1, 1:N[1]-1, 1:N[2]-1] > NE.reshape(N)[1+x:N[0]-1+x, 1+y:N[1]-1+y, 1+z:N[2]-1+z]\n",
    "    v_gra = np.moveaxis(np.gradient(NE.reshape(N)), 0, -1)\n",
    "    v_gra *= (NE.reshape(N) > 0)[:,:,:,np.newaxis]\n",
    "    v_gra *= 1 / (np.max(np.abs(v_gra), axis=3) + 1e-18)[:,:,:,np.newaxis]\n",
    "    v_gra[p_max] = 0\n",
    "    v_gri = np.round(v_gra)\n",
    "    v_cor = v_gra - v_gri\n",
    "    for i in range(NE.shape[0]):\n",
    "        pre = np.copy(p_par)\n",
    "        p_cor += v_cor[p_par[:,:,:,0], p_par[:,:,:,1], p_par[:,:,:,2], :]\n",
    "        p_par += v_gri[p_par[:,:,:,0], p_par[:,:,:,1], p_par[:,:,:,2], :].astype('int64')\n",
    "        p_par += np.round(p_cor).astype('int64')\n",
    "        p_cor -= np.round(p_cor)\n",
    "        if np.array_equal(pre, p_par):\n",
    "            break\n",
    "    for i, a in enumerate(Atom):\n",
    "        pa = p_par[a[0], a[1], a[2], :]\n",
    "        pv = (np.sum(np.abs(p_par-pa[np.newaxis,np.newaxis,np.newaxis,:]), axis=3)==0).astype('int64')\n",
    "        PAR *= (1-pv)\n",
    "        PAR += pv * i\n",
    "    return PAR\n",
    "        "
   ]
  },
  {
   "cell_type": "code",
   "execution_count": null,
   "metadata": {},
   "outputs": [],
   "source": [
    "Result = np.load(\"Water.npz\")"
   ]
  },
  {
   "cell_type": "code",
   "execution_count": null,
   "metadata": {},
   "outputs": [],
   "source": [
    "PAR = partition(Result[\"density\"], Result[\"shape\"])"
   ]
  },
  {
   "cell_type": "code",
   "execution_count": null,
   "metadata": {},
   "outputs": [],
   "source": [
    "visualize((PAR==0).astype(int), 0.1)\n",
    "visualize((PAR==1).astype(int), 0.1)\n",
    "visualize((PAR==2).astype(int), 0.1)"
   ]
  },
  {
   "cell_type": "code",
   "execution_count": null,
   "metadata": {},
   "outputs": [],
   "source": []
  },
  {
   "cell_type": "code",
   "execution_count": null,
   "metadata": {},
   "outputs": [],
   "source": [
    "import numpy as np"
   ]
  },
  {
   "cell_type": "code",
   "execution_count": null,
   "metadata": {},
   "outputs": [],
   "source": [
    "Q = np.array(\n",
    "[[-0.0343604951, 0.9775395708, 0.0076015923],\n",
    "[0.0647664923, 0.0205721989, 0.0015346341],\n",
    "[0.8717903737, 1.3007924048, 0.0006931336]]\n",
    ")\n",
    "Q *= 1.889726125"
   ]
  },
  {
   "cell_type": "code",
   "execution_count": null,
   "metadata": {},
   "outputs": [],
   "source": [
    "N = np.array([-0.589706, 0.294853, 0.294853])"
   ]
  },
  {
   "cell_type": "code",
   "execution_count": null,
   "metadata": {},
   "outputs": [],
   "source": [
    "DM = np.sum(Q * N[:, np.newaxis], axis=0)"
   ]
  },
  {
   "cell_type": "code",
   "execution_count": null,
   "metadata": {},
   "outputs": [],
   "source": [
    "np.linalg.norm(DM) * 2.541"
   ]
  },
  {
   "cell_type": "code",
   "execution_count": null,
   "metadata": {},
   "outputs": [],
   "source": []
  }
 ],
 "metadata": {
  "kernelspec": {
   "display_name": "local-venv",
   "language": "python",
   "name": "local-venv"
  },
  "language_info": {
   "codemirror_mode": {
    "name": "ipython",
    "version": 3
   },
   "file_extension": ".py",
   "mimetype": "text/x-python",
   "name": "python",
   "nbconvert_exporter": "python",
   "pygments_lexer": "ipython3",
   "version": "3.8.10"
  }
 },
 "nbformat": 4,
 "nbformat_minor": 4
}

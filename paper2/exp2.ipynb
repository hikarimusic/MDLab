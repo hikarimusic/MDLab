{
 "cells": [
  {
   "cell_type": "code",
   "execution_count": null,
   "metadata": {},
   "outputs": [],
   "source": [
    "import torch\n",
    "import numpy as np\n",
    "import scipy as sp\n",
    "import matplotlib.pyplot as plt\n",
    "from skimage import measure\n",
    "from skimage.transform import resize\n",
    "import plotly.graph_objects as go\n",
    "import time\n",
    "import os\n",
    "device = 'cuda:0'\n",
    "torch.manual_seed(0)\n",
    "torch.cuda.is_available()"
   ]
  },
  {
   "cell_type": "code",
   "execution_count": null,
   "metadata": {},
   "outputs": [],
   "source": [
    "Config = {\n",
    "    \"dx\": 0.5,\n",
    "    \"bd\": 20,\n",
    "    \"L\": None,\n",
    "    \"N\": None,\n",
    "    \"Z\": None,\n",
    "    \"lr\": 0.1,\n",
    "    \"mom\": 0.0,\n",
    "    \"fast\": False,\n",
    "    \"ion_ene\": [0, 13.59844, 24.58738, \n",
    "                5.39171, 9.32269, 8.29803, 11.26030, 14.53414, 13.61806, 17.42282, 21.5646]\n",
    "}\n",
    "Molecule = {\n",
    "\"name\": \"Dopamine\",\n",
    "\"element\": [\n",
    "  8,\n",
    "  8,\n",
    "  7,\n",
    "  6,\n",
    "  6,\n",
    "  6,\n",
    "  6,\n",
    "  6,\n",
    "  6,\n",
    "  6,\n",
    "  6,\n",
    "  1,\n",
    "  1,\n",
    "  1,\n",
    "  1,\n",
    "  1,\n",
    "  1,\n",
    "  1,\n",
    "  1,\n",
    "  1,\n",
    "  1,\n",
    "  1\n",
    "],\n",
    "\"x\": [\n",
    "  -2.2392,\n",
    "  -3.3557,\n",
    "  4.4081,\n",
    "  2.1628,\n",
    "  0.704,\n",
    "  2.9862,\n",
    "  -0.0999,\n",
    "  0.1434,\n",
    "  -1.4642,\n",
    "  -1.2209,\n",
    "  -2.0247,\n",
    "  2.5111,\n",
    "  2.3332,\n",
    "  2.849,\n",
    "  2.6457,\n",
    "  0.3315,\n",
    "  0.7594,\n",
    "  -1.6445,\n",
    "  4.5468,\n",
    "  4.7362,\n",
    "  -3.1541,\n",
    "  -3.5639\n",
    "],\n",
    "\"y\": [\n",
    "  1.9626,\n",
    "  -0.5612,\n",
    "  0.2624,\n",
    "  -0.0212,\n",
    "  -0.1603,\n",
    "  0.1008,\n",
    "  0.9759,\n",
    "  -1.4267,\n",
    "  0.8456,\n",
    "  -1.557,\n",
    "  -0.4208,\n",
    "  -0.8817,\n",
    "  0.8564,\n",
    "  -0.7888,\n",
    "  0.9593,\n",
    "  1.9659,\n",
    "  -2.3195,\n",
    "  -2.5496,\n",
    "  1.0868,\n",
    "  -0.5285,\n",
    "  1.6866,\n",
    "  -1.5074\n",
    "],\n",
    "\"z\": [\n",
    "  0.0548,\n",
    "  0.3868,\n",
    "  0.3445,\n",
    "  -0.6613,\n",
    "  -0.385,\n",
    "  0.6289,\n",
    "  -0.2919,\n",
    "  -0.2187,\n",
    "  -0.0326,\n",
    "  0.0407,\n",
    "  0.1336,\n",
    "  -1.2481,\n",
    "  -1.2993,\n",
    "  1.2541,\n",
    "  1.2192,\n",
    "  -0.4187,\n",
    "  -0.2869,\n",
    "  0.1686,\n",
    "  -0.2388,\n",
    "  -0.2089,\n",
    "  0.2377,\n",
    "  0.4721\n",
    "]\n",
    "}\n",
    "Train = {\n",
    "    \"N\": None,\n",
    "    \"parameter\": None,\n",
    "    \"gradient\": None,\n",
    "    \"density\": None,\n",
    "    \"difference\": []\n",
    "}\n",
    "Result = {\n",
    "    \"loss\": None,\n",
    "    \"shape\": None,\n",
    "    \"orbits\": None,\n",
    "    \"orbits_e\": None,\n",
    "    \"density\": None,\n",
    "    \"Q_atom\": None,\n",
    "    \"N_atom\": None, \n",
    "    \"Q_elec\": None,\n",
    "    \"N_elec\": None,\n",
    "    \"energy\": None,\n",
    "    \"dipole\": None\n",
    "}"
   ]
  },
  {
   "cell_type": "code",
   "execution_count": null,
   "metadata": {},
   "outputs": [],
   "source": [
    "# Visualize Function\n",
    "def visualize(func, thres=1e-6):\n",
    "    verts, faces, _, _ = measure.marching_cubes(func, thres, spacing=(0.1, 0.1, 0.1))\n",
    "    intensity = np.linalg.norm(verts, axis=1)\n",
    "\n",
    "    fig = go.Figure(data=[go.Mesh3d(x=verts[:, 0], y=verts[:, 1], z=verts[:, 2],\n",
    "                                    i=faces[:, 0], j=faces[:, 1], k=faces[:, 2],\n",
    "                                    intensity=intensity,\n",
    "                                    colorscale='Agsunset',\n",
    "                                    opacity=1.0)])\n",
    "\n",
    "    fig.update_layout(scene=dict(xaxis=dict(visible=False),\n",
    "                                 yaxis=dict(visible=False),\n",
    "                                 zaxis=dict(visible=False),\n",
    "                                 bgcolor='rgb(0, 0, 0)'),\n",
    "                      margin=dict(l=0, r=0, b=0, t=0))\n",
    "    fig.show()"
   ]
  },
  {
   "cell_type": "code",
   "execution_count": null,
   "metadata": {},
   "outputs": [],
   "source": [
    "# Density Functional Theory\n",
    "def calculate(config, molecule, train, result):\n",
    "    t_start = time.time()\n",
    "    \n",
    "    # Config\n",
    "    Atom = []\n",
    "    Qm = np.zeros((3,2))\n",
    "    for i in range(len(molecule[\"element\"])):\n",
    "        Atom.append([molecule[\"element\"][i], np.array([molecule[\"x\"][i], molecule[\"y\"][i], molecule[\"z\"][i]]) * 1.889726125])\n",
    "        Qm[:,0] = np.maximum(Qm[:,0], Atom[i][1])\n",
    "        Qm[:,1] = np.minimum(Qm[:,1], Atom[i][1])\n",
    "    for a in Atom:\n",
    "        a[1] -= np.mean(Qm, axis=1)\n",
    "    dx = config[\"dx\"]\n",
    "    bd = config[\"bd\"]\n",
    "    L = config[\"L\"]\n",
    "    N = config[\"N\"]\n",
    "    Z = config[\"Z\"]\n",
    "    lr = config[\"lr\"]\n",
    "    mom = config[\"mom\"]\n",
    "    fast = config[\"fast\"]\n",
    "    ion_ene = config[\"ion_ene\"]\n",
    "    if L is None:\n",
    "        L = (Qm[:,0]-Qm[:,1]+2*bd)\n",
    "    if N is None:\n",
    "        N = np.rint(L/dx).astype('int32')\n",
    "    if Z is None:\n",
    "        Z = sum(molecule[\"element\"])\n",
    "\n",
    "    # Previous Density\n",
    "    Q = np.zeros((3, N[0], N[1], N[2]))\n",
    "    Q[0,:,:,:] = np.linspace(-L[0]/2, L[0]/2, N[0])[:, np.newaxis, np.newaxis]\n",
    "    Q[1,:,:,:] = np.linspace(-L[1]/2, L[1]/2, N[1])[np.newaxis, :, np.newaxis]\n",
    "    Q[2,:,:,:] = np.linspace(-L[2]/2, L[2]/2, N[2])[np.newaxis, np.newaxis, :]\n",
    "    if len(train[\"difference\"]) == 0:\n",
    "        ND0 = 0\n",
    "        for a in Atom:\n",
    "            Za = a[0]\n",
    "            Qa = a[1][:, np.newaxis, np.newaxis, np.newaxis]\n",
    "            Ra = np.sqrt(np.sum((Q-Qa)*(Q-Qa), axis=0))\n",
    "            Ia = ion_ene[Za] / 27.211\n",
    "            ND0 += (Za*np.sqrt(512*(Ia**3))) / (8*np.pi) * np.exp(-np.sqrt(8*Ia)*Ra)\n",
    "        ND0 = ND0.reshape(N[0]*N[1]*N[2])\n",
    "        train[\"parameter\"] = ND0\n",
    "        train[\"gradient\"] = 0\n",
    "        train[\"density\"] = ND0\n",
    "        train[\"N\"] = N\n",
    "        print(\"L:\", L, \"N:\", N)\n",
    "        print(\"Initial:\")\n",
    "        visualize(train[\"parameter\"].reshape(N), 1e-1)\n",
    "    if not np.array_equal(train[\"N\"], N):\n",
    "        train[\"parameter\"] = resize(train[\"parameter\"].reshape(train[\"N\"]), N).reshape(N[0]*N[1]*N[2])\n",
    "        train[\"gradient\"] = resize(train[\"gradient\"].reshape(train[\"N\"]), N).reshape(N[0]*N[1]*N[2])\n",
    "        train[\"density\"] = resize(train[\"density\"].reshape(train[\"N\"]), N).reshape(N[0]*N[1]*N[2])\n",
    "        train[\"N\"] = N\n",
    "        print(\"L:\", L, \"N:\", N)\n",
    "        print(\"Resize:\")\n",
    "        visualize(train[\"parameter\"].reshape(N), 1e-1)\n",
    "    Gra = mom * train[\"gradient\"] + (train[\"parameter\"] - train[\"density\"])\n",
    "    Par = train[\"parameter\"] - lr * Gra\n",
    "    Par *= sum(molecule[\"element\"]) / np.sum(Par*(dx**3))\n",
    "    ND0 = Par\n",
    "    \n",
    "    # Kinetic Energy\n",
    "    D = [sp.sparse.spdiags(np.array([np.ones([N[i]]), -2*np.ones([N[i]]), np.ones([N[i]])]), \n",
    "                           np.array([-1,0,1]), N[i], N[i]) \n",
    "         for i in range(3)]\n",
    "    Lap = sp.sparse.kronsum(sp.sparse.kronsum(D[2],D[1]), D[0]) / (dx**2)\n",
    "    T = -1/2 * Lap\n",
    "\n",
    "    # External Energy\n",
    "    V_ext = 0\n",
    "    for a in Atom:\n",
    "        Za = a[0]\n",
    "        Qa = a[1][:, np.newaxis, np.newaxis, np.newaxis]\n",
    "        V_ext += -Za / (np.sqrt(np.sum((Q-Qa)*(Q-Qa), axis=0)) + 1e-6)\n",
    "    V_ext = sp.sparse.diags(V_ext.reshape(N[0]*N[1]*N[2]))\n",
    "    \n",
    "    # Hartree Energy\n",
    "    V_har0 = sp.sparse.linalg.cg(Lap, -4*np.pi*ND0)[0]\n",
    "    V_har = sp.sparse.diags(V_har0)\n",
    "\n",
    "    # Exchange-Correlation Energy\n",
    "    V_xc0 = -np.cbrt(3/np.pi) * np.cbrt(ND0)\n",
    "    V_xc = sp.sparse.diags(V_xc0)\n",
    "    \n",
    "    # Solve\n",
    "    H = (T + V_ext + V_har + V_xc).tocoo()\n",
    "    H = torch.sparse_coo_tensor(indices=torch.tensor(np.vstack([H.row, H.col])), values=torch.tensor(H.data), size=H.shape).to(device)\n",
    "    if fast:\n",
    "        H = H.float()\n",
    "    fn = [2 for i in range(Z//2)]\n",
    "    if Z % 2 == 1:\n",
    "        fn.append(1)\n",
    "    eigval, eigvec = torch.lobpcg(H, len(fn), largest=False)\n",
    "\n",
    "    # Density\n",
    "    orbits_e = eigval.detach().cpu().numpy()\n",
    "    orbits = eigvec.T.detach().cpu().numpy()\n",
    "    orbits = orbits / np.sqrt(np.sum(orbits*orbits*(dx**3), axis=1))[:, np.newaxis]\n",
    "    ND = np.zeros(N[0]*N[1]*N[2], dtype=np.float32)\n",
    "    for ne, orb in zip(fn, orbits):\n",
    "        ND += ne*(orb**2)\n",
    "    ND *= sum(molecule[\"element\"]) / np.sum(ND*(dx**3))\n",
    "    Dif = np.sum(np.abs(ND - ND0) * (dx**3))\n",
    "    \n",
    "    # Train\n",
    "    train[\"parameter\"] = Par\n",
    "    train[\"gradient\"] = Gra\n",
    "    train[\"density\"] = ND\n",
    "    train[\"difference\"].append(Dif)\n",
    "    \n",
    "    # Result\n",
    "    if result[\"loss\"] is None or Dif < result[\"loss\"]:\n",
    "        # Distribution\n",
    "        QA = np.array([a[1] for a in Atom], dtype='float64').T\n",
    "        NA = np.array([a[0] for a in Atom], dtype='float64')\n",
    "        QE = Q.reshape((3, N[0]*N[1]*N[2]))\n",
    "        NE = ND0 * (dx**3)\n",
    "        \n",
    "        # Energy\n",
    "        EN = 0\n",
    "        for ne, orb_e in zip(fn, orbits_e):\n",
    "            EN += ne * orb_e\n",
    "        EN -= np.sum((1./2.) * V_har0 * ND0 * (dx**3))\n",
    "        EN -= np.sum(V_xc0 * ND0 * (dx**3))\n",
    "        EN += (-3/4) * np.cbrt(3/np.pi) * np.sum(np.power(ND0, 4/3) * (dx**3))\n",
    "        for i in range(len(Atom)):\n",
    "            for j in range(i+1, len(Atom)):\n",
    "                EN += Atom[i][0] * Atom[j][0] / np.linalg.norm(Atom[i][1]-Atom[j][1])\n",
    "\n",
    "        # Dipole Moment\n",
    "        DM = np.zeros(3)\n",
    "        DM += np.sum(NA[np.newaxis, :]*QA, axis=1)\n",
    "        DM += np.sum(-NE[np.newaxis, :]*QE, axis=1)\n",
    "\n",
    "        # Result\n",
    "        result[\"loss\"] = Dif\n",
    "        result[\"shape\"] = N\n",
    "        result[\"orbits\"] = orbits\n",
    "        result[\"orbits_e\"] = orbits_e\n",
    "        result[\"density\"] = ND0\n",
    "        result[\"Q_atom\"] = QA\n",
    "        result[\"N_atom\"] = NA\n",
    "        result[\"Q_elec\"] = QE\n",
    "        result[\"N_elec\"] = NE\n",
    "        result[\"energy\"] = EN\n",
    "        result[\"dipole\"] = DM\n",
    "    \n",
    "    t_end = time.time()\n",
    "    print(\"Iteration:\", len(train[\"difference\"]), \" / Time:\", t_end-t_start)\n",
    "    print(\"Difference:\", Dif)\n",
    "    visualize(ND.reshape(N), 1e-1)"
   ]
  },
  {
   "cell_type": "code",
   "execution_count": null,
   "metadata": {
    "scrolled": false
   },
   "outputs": [],
   "source": [
    "Config[\"dx\"] = 0.4\n",
    "Config[\"lr\"] = 0.1\n",
    "prel = len(Train[\"difference\"])\n",
    "for i in range(100):\n",
    "    calculate(Config, Molecule, Train, Result)\n",
    "    if i>=10 and Train[\"difference\"][i+prel]>Train[\"difference\"][i+prel-10]:\n",
    "        break        "
   ]
  },
  {
   "cell_type": "code",
   "execution_count": null,
   "metadata": {
    "scrolled": false
   },
   "outputs": [],
   "source": [
    "Config[\"lr\"] = 0.01\n",
    "prel = len(Train[\"difference\"])\n",
    "for i in range(100):\n",
    "    calculate(Config, Molecule, Train, Result)\n",
    "    if i>=10 and Train[\"difference\"][i+prel]>Train[\"difference\"][i+prel-10]:\n",
    "        break        "
   ]
  },
  {
   "cell_type": "code",
   "execution_count": null,
   "metadata": {
    "scrolled": false
   },
   "outputs": [],
   "source": [
    "Config[\"lr\"] = 0.001\n",
    "prel = len(Train[\"difference\"])\n",
    "for i in range(100):\n",
    "    calculate(Config, Molecule, Train, Result)\n",
    "    if i>=10 and Train[\"difference\"][i+prel]>Train[\"difference\"][i+prel-10]:\n",
    "        break        "
   ]
  },
  {
   "cell_type": "code",
   "execution_count": null,
   "metadata": {
    "scrolled": false
   },
   "outputs": [],
   "source": [
    "Config[\"lr\"] = 0.0001\n",
    "prel = len(Train[\"difference\"])\n",
    "for i in range(100):\n",
    "    calculate(Config, Molecule, Train, Result)\n",
    "    if i>=10 and Train[\"difference\"][i+prel]>Train[\"difference\"][i+prel-10]:\n",
    "        break        "
   ]
  },
  {
   "cell_type": "code",
   "execution_count": null,
   "metadata": {},
   "outputs": [],
   "source": [
    "np.savez('dopamine', **Result)"
   ]
  },
  {
   "cell_type": "code",
   "execution_count": null,
   "metadata": {},
   "outputs": [],
   "source": []
  },
  {
   "cell_type": "code",
   "execution_count": null,
   "metadata": {},
   "outputs": [],
   "source": []
  },
  {
   "cell_type": "code",
   "execution_count": null,
   "metadata": {},
   "outputs": [],
   "source": []
  },
  {
   "cell_type": "code",
   "execution_count": null,
   "metadata": {},
   "outputs": [],
   "source": []
  },
  {
   "cell_type": "code",
   "execution_count": null,
   "metadata": {},
   "outputs": [],
   "source": []
  },
  {
   "cell_type": "code",
   "execution_count": null,
   "metadata": {},
   "outputs": [],
   "source": [
    "visualize(Result[\"density\"].reshape(Result[\"shape\"]), 1e-3)"
   ]
  },
  {
   "cell_type": "code",
   "execution_count": null,
   "metadata": {
    "scrolled": true
   },
   "outputs": [],
   "source": [
    "for i in range(Result[\"orbits\"].shape[0]):\n",
    "    orb = Result[\"orbits\"][i,:] * Result[\"orbits\"][i,:]\n",
    "    orb =  orb * np.sum(Result[\"density\"]) / np.sum(orb)\n",
    "    visualize(orb.reshape(Result[\"shape\"]), 1e-1)"
   ]
  },
  {
   "cell_type": "code",
   "execution_count": null,
   "metadata": {},
   "outputs": [],
   "source": [
    "i = 3\n",
    "orb = Result[\"orbits\"][i,:] * Result[\"orbits\"][i,:]\n",
    "print(np.sum(orb*(0.4**3)))"
   ]
  },
  {
   "cell_type": "code",
   "execution_count": null,
   "metadata": {},
   "outputs": [],
   "source": [
    "Result"
   ]
  },
  {
   "cell_type": "code",
   "execution_count": null,
   "metadata": {},
   "outputs": [],
   "source": []
  },
  {
   "cell_type": "code",
   "execution_count": null,
   "metadata": {},
   "outputs": [],
   "source": []
  },
  {
   "cell_type": "code",
   "execution_count": null,
   "metadata": {},
   "outputs": [],
   "source": []
  },
  {
   "cell_type": "code",
   "execution_count": null,
   "metadata": {},
   "outputs": [],
   "source": [
    "Read = np.load('dopamine.npz')\n",
    "for k in Read:\n",
    "    Train[k] = Read[k]\n",
    "Train[\"difference\"] = Train[\"difference\"].tolist()"
   ]
  },
  {
   "cell_type": "code",
   "execution_count": null,
   "metadata": {},
   "outputs": [],
   "source": [
    "for k in Read:\n",
    "    print(k)"
   ]
  },
  {
   "cell_type": "code",
   "execution_count": null,
   "metadata": {},
   "outputs": [],
   "source": [
    "Read[\"\"]"
   ]
  },
  {
   "cell_type": "code",
   "execution_count": null,
   "metadata": {},
   "outputs": [],
   "source": []
  },
  {
   "cell_type": "code",
   "execution_count": null,
   "metadata": {},
   "outputs": [],
   "source": [
    "Result"
   ]
  },
  {
   "cell_type": "code",
   "execution_count": null,
   "metadata": {},
   "outputs": [],
   "source": []
  },
  {
   "cell_type": "code",
   "execution_count": null,
   "metadata": {},
   "outputs": [],
   "source": []
  },
  {
   "cell_type": "code",
   "execution_count": null,
   "metadata": {},
   "outputs": [],
   "source": []
  },
  {
   "cell_type": "code",
   "execution_count": null,
   "metadata": {},
   "outputs": [],
   "source": [
    "visualize(Result[\"density\"].reshape(Result[\"N\"]), 1e-1)"
   ]
  },
  {
   "cell_type": "code",
   "execution_count": null,
   "metadata": {},
   "outputs": [],
   "source": [
    "if save:\n",
    "    np.savez(save, **Result)"
   ]
  },
  {
   "cell_type": "code",
   "execution_count": null,
   "metadata": {},
   "outputs": [],
   "source": [
    "Result[\"eigenvalue\"].shape"
   ]
  },
  {
   "cell_type": "code",
   "execution_count": null,
   "metadata": {},
   "outputs": [],
   "source": [
    "Result[\"eigenvector\"].shape"
   ]
  },
  {
   "cell_type": "code",
   "execution_count": null,
   "metadata": {},
   "outputs": [],
   "source": []
  },
  {
   "cell_type": "code",
   "execution_count": null,
   "metadata": {},
   "outputs": [],
   "source": [
    "Result = {\n",
    "    \"loss\": 10,\n",
    "    \"orbits\": None,\n",
    "    \"orbits_e\": None,\n",
    "    \"Q_atom\": None,\n",
    "    \"N_atom\": None, \n",
    "    \"Q_elec\": None,\n",
    "    \"N_elec\": None,\n",
    "    \"energy\": None,\n",
    "    \"dipole\": None\n",
    "}"
   ]
  },
  {
   "cell_type": "code",
   "execution_count": null,
   "metadata": {},
   "outputs": [],
   "source": []
  },
  {
   "cell_type": "code",
   "execution_count": null,
   "metadata": {},
   "outputs": [],
   "source": [
    "np.savez('dopamine', **Result)"
   ]
  },
  {
   "cell_type": "code",
   "execution_count": null,
   "metadata": {},
   "outputs": [],
   "source": []
  },
  {
   "cell_type": "code",
   "execution_count": null,
   "metadata": {},
   "outputs": [],
   "source": []
  },
  {
   "cell_type": "code",
   "execution_count": null,
   "metadata": {},
   "outputs": [],
   "source": []
  },
  {
   "cell_type": "code",
   "execution_count": null,
   "metadata": {},
   "outputs": [],
   "source": []
  },
  {
   "cell_type": "code",
   "execution_count": null,
   "metadata": {},
   "outputs": [],
   "source": []
  },
  {
   "cell_type": "code",
   "execution_count": null,
   "metadata": {},
   "outputs": [],
   "source": [
    "def predict(config, molecule, result):\n",
    "    # Config\n",
    "    Atom = []\n",
    "    Qm = np.zeros((3,2))\n",
    "    for i in range(len(molecule[\"element\"])):\n",
    "        Atom.append([molecule[\"element\"][i], np.array([molecule[\"x\"][i], molecule[\"y\"][i], molecule[\"z\"][i]]) * 1.8897])\n",
    "        Qm[:,0] = np.maximum(Qm[:,0], Atom[i][1])\n",
    "        Qm[:,1] = np.minimum(Qm[:,1], Atom[i][1])\n",
    "    for a in Atom:\n",
    "        a[1] -= np.mean(Qm, axis=1)\n",
    "    dx = config[\"dx\"]\n",
    "    bd = config[\"bd\"]\n",
    "    L = config[\"L\"]\n",
    "    N = config[\"N\"]\n",
    "    Z = config[\"Z\"]\n",
    "    mix = config[\"mix\"]\n",
    "    fast = config[\"fast\"]\n",
    "    ion_ene = config[\"ion_ene\"]\n",
    "    if L is None:\n",
    "        L = (Qm[:,0]-Qm[:,1]+2*bd)\n",
    "    if N is None:\n",
    "        N = np.rint(L/dx).astype('int32')\n",
    "    if Z is None:\n",
    "        Z = sum(molecule[\"element\"])\n",
    "    \n",
    "    # Distribution\n",
    "    NE = result[\"priori\"][-2] * (dx**3)\n",
    "    QE = np.zeros((3, N[0], N[1], N[2]))\n",
    "    QE[0,:,:,:] = np.linspace(-L[0]/2, L[0]/2, N[0])[:, np.newaxis, np.newaxis]\n",
    "    QE[1,:,:,:] = np.linspace(-L[1]/2, L[1]/2, N[1])[np.newaxis, :, np.newaxis]\n",
    "    QE[2,:,:,:] = np.linspace(-L[2]/2, L[2]/2, N[2])[np.newaxis, np.newaxis, :]\n",
    "    QE = QE.reshape(3, N[0]*N[1]*N[2])\n",
    "    NA = np.array([a[0] for a in Atom], dtype='float64')\n",
    "    QA = np.array([a[1] for a in Atom], dtype='float64').T\n",
    "    \n",
    "    # Dipole Moment\n",
    "    DM = np.zeros(3)\n",
    "    DM += np.sum(-NE[np.newaxis, :]*QE, axis=1)\n",
    "    DM += np.sum(NA[np.newaxis, :]*QA, axis=1)\n",
    "    \n",
    "    print(NE)\n",
    "    print(QE)\n",
    "    print(NA)\n",
    "    print(QA)\n",
    "    print(np.sum(-NE[np.newaxis, :]*QE, axis=1))\n",
    "    print(np.sum(NA[np.newaxis, :]*QA, axis=1))\n",
    "    \n",
    "    # Result\n",
    "    result[\"distribution\"] = {\"NE\": NE, \"QE\": QE, \"NA\": NA, \"QA\": QA}\n",
    "    result[\"dipole\"] = DM\n",
    "    "
   ]
  },
  {
   "cell_type": "code",
   "execution_count": null,
   "metadata": {},
   "outputs": [],
   "source": []
  },
  {
   "cell_type": "code",
   "execution_count": null,
   "metadata": {},
   "outputs": [],
   "source": []
  },
  {
   "cell_type": "code",
   "execution_count": null,
   "metadata": {},
   "outputs": [],
   "source": []
  },
  {
   "cell_type": "code",
   "execution_count": null,
   "metadata": {},
   "outputs": [],
   "source": []
  },
  {
   "cell_type": "code",
   "execution_count": null,
   "metadata": {},
   "outputs": [],
   "source": []
  },
  {
   "cell_type": "code",
   "execution_count": null,
   "metadata": {},
   "outputs": [],
   "source": []
  },
  {
   "cell_type": "code",
   "execution_count": null,
   "metadata": {},
   "outputs": [],
   "source": []
  },
  {
   "cell_type": "code",
   "execution_count": null,
   "metadata": {},
   "outputs": [],
   "source": []
  },
  {
   "cell_type": "code",
   "execution_count": null,
   "metadata": {},
   "outputs": [],
   "source": []
  },
  {
   "cell_type": "code",
   "execution_count": null,
   "metadata": {},
   "outputs": [],
   "source": [
    "# Load = np.load('dopamine.npz')\n",
    "# for k in Load:\n",
    "#     print(Load[k])\n",
    "#     Result[k] = Load[k]\n",
    "Load = np.load('dopamine.npz')\n",
    "Result[\"N\"] = Load[\"N\"]\n",
    "Result[\"parameter\"] = Load[\"parameter\"]\n",
    "Result[\"gradient\"] = Load[\"gradient\"]\n",
    "Result[\"density\"] = Load[\"density\"]\n",
    "Result[\"difference\"] = Load[\"difference\"]"
   ]
  },
  {
   "cell_type": "code",
   "execution_count": null,
   "metadata": {},
   "outputs": [],
   "source": [
    "for a in Result:\n",
    "    print(a)"
   ]
  },
  {
   "cell_type": "code",
   "execution_count": null,
   "metadata": {},
   "outputs": [],
   "source": [
    "print(Result[\"difference\"])"
   ]
  },
  {
   "cell_type": "code",
   "execution_count": null,
   "metadata": {},
   "outputs": [],
   "source": [
    "print(Result[\"eigenvector\"])"
   ]
  },
  {
   "cell_type": "code",
   "execution_count": null,
   "metadata": {},
   "outputs": [],
   "source": [
    "visualize(Result[\"density\"].reshape(Result[\"N\"]), 1e-1)"
   ]
  },
  {
   "cell_type": "code",
   "execution_count": null,
   "metadata": {},
   "outputs": [],
   "source": [
    "Config[\"lr\"] = 0.001\n",
    "Config[\"dx\"] = 0.4\n",
    "prel = len(Result[\"difference\"])\n",
    "for i in range(100):\n",
    "    calculate(Config, Molecule, Result)\n",
    "    if i>=10 and Result[\"difference\"][i+prel]>Result[\"difference\"][i+prel-10]:\n",
    "        break        "
   ]
  },
  {
   "cell_type": "code",
   "execution_count": null,
   "metadata": {},
   "outputs": [],
   "source": []
  },
  {
   "cell_type": "code",
   "execution_count": null,
   "metadata": {},
   "outputs": [],
   "source": []
  },
  {
   "cell_type": "code",
   "execution_count": null,
   "metadata": {},
   "outputs": [],
   "source": []
  },
  {
   "cell_type": "code",
   "execution_count": null,
   "metadata": {},
   "outputs": [],
   "source": [
    "Result[\"eigenvalue\"] = Result[\"eigenvalue\"].detach().cpu().numpy()\n",
    "Result[\"eigenvector\"] = Result[\"eigenvector\"].detach().cpu().numpy()"
   ]
  },
  {
   "cell_type": "code",
   "execution_count": null,
   "metadata": {},
   "outputs": [],
   "source": [
    "np.savez('dopamine', **Result)"
   ]
  },
  {
   "cell_type": "code",
   "execution_count": null,
   "metadata": {},
   "outputs": [],
   "source": []
  },
  {
   "cell_type": "code",
   "execution_count": null,
   "metadata": {},
   "outputs": [],
   "source": [
    "Temp = np.load('dopamine.npz')"
   ]
  },
  {
   "cell_type": "code",
   "execution_count": null,
   "metadata": {},
   "outputs": [],
   "source": [
    "Temp[\"eigenvalue\"]"
   ]
  },
  {
   "cell_type": "code",
   "execution_count": null,
   "metadata": {},
   "outputs": [],
   "source": [
    "visualize(Temp[\"density\"].reshape(Temp[\"N\"]), 1e-1)"
   ]
  },
  {
   "cell_type": "code",
   "execution_count": null,
   "metadata": {},
   "outputs": [],
   "source": []
  },
  {
   "cell_type": "code",
   "execution_count": null,
   "metadata": {},
   "outputs": [],
   "source": [
    "Config[\"lr\"] = 0.01\n",
    "for i in range(len(Result[\"difference\"]), len(Result[\"difference\"])+100):\n",
    "    calculate(Config, Molecule, Result)\n",
    "    if i>=10 and Result[\"difference\"][i]>Result[\"difference\"][i-10]:\n",
    "        break   "
   ]
  },
  {
   "cell_type": "code",
   "execution_count": null,
   "metadata": {},
   "outputs": [],
   "source": [
    "Config = {\n",
    "    \"dx\": 0.5,\n",
    "    \"bd\": 20,\n",
    "    \"L\": None,\n",
    "    \"N\": None,\n",
    "    \"Z\": None,\n",
    "    \"lr\": 0.1,\n",
    "    \"mom\": 0.0,\n",
    "    \"fast\": False,\n",
    "    \"ion_ene\": [0, 13.59844, 24.58738, \n",
    "                5.39171, 9.32269, 8.29803, 11.26030, 14.53414, 13.61806, 17.42282, 21.5646]\n",
    "}"
   ]
  },
  {
   "cell_type": "code",
   "execution_count": null,
   "metadata": {},
   "outputs": [],
   "source": [
    "Result[\"N\"]"
   ]
  },
  {
   "cell_type": "code",
   "execution_count": null,
   "metadata": {
    "scrolled": false
   },
   "outputs": [],
   "source": [
    "Config[\"dx\"] = 0.4\n",
    "for i in range(len(Result[\"difference\"]), len(Result[\"difference\"])+100):\n",
    "    calculate(Config, Molecule, Result)\n",
    "    if i>=10 and Result[\"difference\"][i]>Result[\"difference\"][i-10]:\n",
    "        break        "
   ]
  },
  {
   "cell_type": "code",
   "execution_count": null,
   "metadata": {},
   "outputs": [],
   "source": []
  },
  {
   "cell_type": "code",
   "execution_count": null,
   "metadata": {},
   "outputs": [],
   "source": []
  },
  {
   "cell_type": "code",
   "execution_count": null,
   "metadata": {},
   "outputs": [],
   "source": []
  },
  {
   "cell_type": "code",
   "execution_count": null,
   "metadata": {},
   "outputs": [],
   "source": [
    "print(np.prod(Config[\"N\"]))"
   ]
  },
  {
   "cell_type": "code",
   "execution_count": null,
   "metadata": {},
   "outputs": [],
   "source": [
    "print(Result[\"parameter\"].shape[0])"
   ]
  },
  {
   "cell_type": "code",
   "execution_count": null,
   "metadata": {},
   "outputs": [],
   "source": [
    "np.prod(Config[\"N\"]) == Result[\"parameter\"].shape[0]"
   ]
  },
  {
   "cell_type": "code",
   "execution_count": null,
   "metadata": {},
   "outputs": [],
   "source": [
    "type(Result[\"parameter\"].reshape(Config[\"N\"]).shape)"
   ]
  },
  {
   "cell_type": "code",
   "execution_count": null,
   "metadata": {},
   "outputs": [],
   "source": [
    "np.array_equal(Config[\"N\"], Result[\"parameter\"].reshape(Config[\"N\"]).shape)"
   ]
  },
  {
   "cell_type": "code",
   "execution_count": null,
   "metadata": {},
   "outputs": [],
   "source": [
    "print(Result[\"parameter\"].reshape(Config[\"N\"]).shape)"
   ]
  },
  {
   "cell_type": "code",
   "execution_count": null,
   "metadata": {},
   "outputs": [],
   "source": [
    "A = Result[\"parameter\"].reshape(Config[\"N\"])"
   ]
  },
  {
   "cell_type": "code",
   "execution_count": null,
   "metadata": {},
   "outputs": [],
   "source": [
    "B = resize(A, (220, 194, 180))"
   ]
  },
  {
   "cell_type": "code",
   "execution_count": null,
   "metadata": {},
   "outputs": [],
   "source": [
    "visualize(B, 1e-1)"
   ]
  },
  {
   "cell_type": "code",
   "execution_count": null,
   "metadata": {},
   "outputs": [],
   "source": []
  },
  {
   "cell_type": "code",
   "execution_count": null,
   "metadata": {},
   "outputs": [],
   "source": [
    "visualize(Result[\"parameter\"].reshape(Config[\"N\"]), 1e-1)"
   ]
  },
  {
   "cell_type": "code",
   "execution_count": null,
   "metadata": {},
   "outputs": [],
   "source": [
    "visualize(Result[\"density\"].reshape(Config[\"N\"]), 1e-2)"
   ]
  },
  {
   "cell_type": "code",
   "execution_count": null,
   "metadata": {},
   "outputs": [],
   "source": [
    "visualize(Result[\"gradient\"].reshape(Config[\"N\"]), 1e-2)"
   ]
  },
  {
   "cell_type": "code",
   "execution_count": null,
   "metadata": {},
   "outputs": [],
   "source": []
  },
  {
   "cell_type": "code",
   "execution_count": null,
   "metadata": {},
   "outputs": [],
   "source": []
  },
  {
   "cell_type": "code",
   "execution_count": null,
   "metadata": {},
   "outputs": [],
   "source": []
  },
  {
   "cell_type": "code",
   "execution_count": null,
   "metadata": {},
   "outputs": [],
   "source": []
  },
  {
   "cell_type": "code",
   "execution_count": null,
   "metadata": {},
   "outputs": [],
   "source": []
  },
  {
   "cell_type": "code",
   "execution_count": null,
   "metadata": {},
   "outputs": [],
   "source": []
  },
  {
   "cell_type": "code",
   "execution_count": null,
   "metadata": {},
   "outputs": [],
   "source": []
  },
  {
   "cell_type": "code",
   "execution_count": null,
   "metadata": {},
   "outputs": [],
   "source": []
  },
  {
   "cell_type": "code",
   "execution_count": null,
   "metadata": {},
   "outputs": [],
   "source": []
  },
  {
   "cell_type": "code",
   "execution_count": null,
   "metadata": {},
   "outputs": [],
   "source": []
  },
  {
   "cell_type": "code",
   "execution_count": null,
   "metadata": {},
   "outputs": [],
   "source": []
  },
  {
   "cell_type": "code",
   "execution_count": null,
   "metadata": {},
   "outputs": [],
   "source": []
  },
  {
   "cell_type": "code",
   "execution_count": null,
   "metadata": {},
   "outputs": [],
   "source": []
  },
  {
   "cell_type": "code",
   "execution_count": null,
   "metadata": {},
   "outputs": [],
   "source": []
  },
  {
   "cell_type": "code",
   "execution_count": null,
   "metadata": {},
   "outputs": [],
   "source": []
  },
  {
   "cell_type": "code",
   "execution_count": null,
   "metadata": {},
   "outputs": [],
   "source": []
  },
  {
   "cell_type": "code",
   "execution_count": null,
   "metadata": {},
   "outputs": [],
   "source": []
  },
  {
   "cell_type": "code",
   "execution_count": null,
   "metadata": {},
   "outputs": [],
   "source": []
  },
  {
   "cell_type": "code",
   "execution_count": null,
   "metadata": {},
   "outputs": [],
   "source": []
  },
  {
   "cell_type": "code",
   "execution_count": null,
   "metadata": {},
   "outputs": [],
   "source": []
  },
  {
   "cell_type": "code",
   "execution_count": null,
   "metadata": {},
   "outputs": [],
   "source": [
    "Config[\"lr\"] = 0.01"
   ]
  },
  {
   "cell_type": "code",
   "execution_count": null,
   "metadata": {
    "scrolled": true
   },
   "outputs": [],
   "source": [
    "for i in range(100):\n",
    "    calculate(Config, Molecule, Result)\n",
    "    if Result[\"difference\"][-1] < 1:\n",
    "        break"
   ]
  },
  {
   "cell_type": "code",
   "execution_count": null,
   "metadata": {},
   "outputs": [],
   "source": [
    "Config[\"lr\"] = 0.001"
   ]
  },
  {
   "cell_type": "code",
   "execution_count": null,
   "metadata": {
    "scrolled": true
   },
   "outputs": [],
   "source": [
    "for i in range(100):\n",
    "    calculate(Config, Molecule, Result)\n",
    "    if Result[\"difference\"][-1] < 1:\n",
    "        break"
   ]
  },
  {
   "cell_type": "code",
   "execution_count": null,
   "metadata": {},
   "outputs": [],
   "source": [
    "Config[\"lr\"] = 0.0001"
   ]
  },
  {
   "cell_type": "code",
   "execution_count": null,
   "metadata": {
    "scrolled": false
   },
   "outputs": [],
   "source": [
    "for i in range(100):\n",
    "    calculate(Config, Molecule, Result)\n",
    "    if Result[\"difference\"][-1] < 1:\n",
    "        visualize(Result[\"density\"].reshape([119, 95, 83]), 1e-3)\n",
    "        break"
   ]
  },
  {
   "cell_type": "code",
   "execution_count": null,
   "metadata": {},
   "outputs": [],
   "source": [
    "np.save('dopamine.npy', Result[\"parameter\"][-1])"
   ]
  },
  {
   "cell_type": "code",
   "execution_count": null,
   "metadata": {},
   "outputs": [],
   "source": [
    "visualize(Result[\"parameter\"][-1].reshape([119, 95, 83]), 1e-3)"
   ]
  },
  {
   "cell_type": "code",
   "execution_count": null,
   "metadata": {},
   "outputs": [],
   "source": [
    "visualize(Result[\"density\"][-1].reshape([119, 95, 83]), 1e-3)"
   ]
  },
  {
   "cell_type": "code",
   "execution_count": null,
   "metadata": {
    "scrolled": false
   },
   "outputs": [],
   "source": [
    "for i in range(-10, 0):\n",
    "    visualize(Result[\"gradient\"][i].reshape([119, 95, 83]), 1e-3)"
   ]
  },
  {
   "cell_type": "code",
   "execution_count": null,
   "metadata": {},
   "outputs": [],
   "source": [
    "predict(Config, Molecule, Result)"
   ]
  },
  {
   "cell_type": "code",
   "execution_count": null,
   "metadata": {},
   "outputs": [],
   "source": [
    "if Save is not None:\n",
    "    np.savez(Save, \n",
    "             NE=Result[\"distribution\"][\"NE\"], QE=Result[\"distribution\"][\"QE\"], \n",
    "             NA=Result[\"distribution\"][\"NA\"], QA=Result[\"distribution\"][\"QA\"])"
   ]
  }
 ],
 "metadata": {
  "kernelspec": {
   "display_name": "local-venv",
   "language": "python",
   "name": "local-venv"
  },
  "language_info": {
   "codemirror_mode": {
    "name": "ipython",
    "version": 3
   },
   "file_extension": ".py",
   "mimetype": "text/x-python",
   "name": "python",
   "nbconvert_exporter": "python",
   "pygments_lexer": "ipython3",
   "version": "3.8.10"
  }
 },
 "nbformat": 4,
 "nbformat_minor": 4
}

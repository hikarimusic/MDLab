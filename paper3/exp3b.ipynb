{
 "cells": [
  {
   "cell_type": "code",
   "execution_count": 1,
   "metadata": {},
   "outputs": [
    {
     "data": {
      "text/plain": [
       "True"
      ]
     },
     "execution_count": 1,
     "metadata": {},
     "output_type": "execute_result"
    }
   ],
   "source": [
    "import torch\n",
    "import torch.nn as nn\n",
    "import torch.optim as optim\n",
    "import numpy as np\n",
    "import seaborn as sns\n",
    "import matplotlib.pyplot as plt\n",
    "device = 'cuda:0'\n",
    "torch.manual_seed(0)\n",
    "torch.cuda.is_available()"
   ]
  },
  {
   "cell_type": "code",
   "execution_count": 2,
   "metadata": {},
   "outputs": [],
   "source": [
    "opt = {\n",
    "    \"dimension\": 2,\n",
    "    \"num_atoms\":1000,\n",
    "    \"hidden_size\": 100,\n",
    "    \"simulate\": 1000\n",
    "}"
   ]
  },
  {
   "cell_type": "code",
   "execution_count": 3,
   "metadata": {},
   "outputs": [],
   "source": [
    "# Force Field\n",
    "class ForceField(nn.Module):\n",
    "    def __init__(self, input_size, hidden_size, output_size):\n",
    "        super(ForceField, self).__init__()\n",
    "        self.layer1 = nn.Linear(input_size, hidden_size)\n",
    "        self.activation = nn.Sigmoid()\n",
    "        self.layer2 = nn.Linear(hidden_size, output_size)\n",
    "\n",
    "    def forward(self, x):\n",
    "        x = self.layer1(x)\n",
    "        x = self.activation(x)\n",
    "        x = self.layer2(x)\n",
    "        return x"
   ]
  },
  {
   "cell_type": "code",
   "execution_count": 4,
   "metadata": {},
   "outputs": [],
   "source": [
    "# Atom Coordinates\n",
    "class AtomCoordinates(nn.Module):\n",
    "    def __init__(self, num_atoms, scale=1):\n",
    "        super(AtomCoordinates, self).__init__()\n",
    "        self.coordinates = nn.Parameter(torch.randn(num_atoms, opt[\"dimension\"])*scale)\n",
    "\n",
    "    def forward(self):\n",
    "        return self.coordinates"
   ]
  },
  {
   "cell_type": "code",
   "execution_count": 5,
   "metadata": {},
   "outputs": [],
   "source": [
    "# Data\n",
    "def lennard_jones_potential(r, eps=1e-1):\n",
    "#     return 1.5**12 / (r+eps)**12 - 1.5**6 / (r+eps)**6\n",
    "    return 1 / (r+eps)**12 - 1 / (r+eps)**6\n",
    "\n",
    "def distances_matrix(coordinates):\n",
    "    matrix_size = coordinates.shape[0]\n",
    "    distances = torch.cdist(coordinates, coordinates)\n",
    "    indices = torch.triu_indices(matrix_size, matrix_size, offset=1)\n",
    "    distances = distances[indices[0], indices[1]]\n",
    "    return distances\n",
    "\n",
    "def simulate_stable_conformations(atom_coordinates, force_field, num_iterations=100, lr=0.01):\n",
    "    optimizer = optim.Adam([atom_coordinates], lr=lr)\n",
    "    \n",
    "    for iteration in range(num_iterations):\n",
    "        potential_energy = torch.sum(force_field(distances_matrix(atom_coordinates).view(-1, 1)))\n",
    "\n",
    "        optimizer.zero_grad()\n",
    "        potential_energy.backward()\n",
    "        torch.nn.utils.clip_grad_norm_(atom_coordinates, 1)\n",
    "        optimizer.step()\n",
    "\n",
    "        if iteration % 1000 == -1:\n",
    "            print(f\"Iteration {iteration}, Potential Energy: {potential_energy.item()}\")\n",
    "\n",
    "    return atom_coordinates"
   ]
  },
  {
   "cell_type": "code",
   "execution_count": 6,
   "metadata": {},
   "outputs": [],
   "source": [
    "# Train\n",
    "def train(force_field, atom_coordinates, num_iterations=1000):\n",
    "    atom_optimizer = optim.Adam(atom_coordinates.parameters(), lr=0.1)\n",
    "    force_optimizer = optim.Adam(force_field.parameters(), lr=0.01)\n",
    "    \n",
    "#     best_loss = float('inf')\n",
    "    for iteration in range(num_iterations): \n",
    "        # MD Simulation\n",
    "        if iteration % opt[\"simulate\"] == 0:\n",
    "            atom_stable = AtomCoordinates(opt[\"num_atoms\"]).to(device)\n",
    "            stable_conformations = simulate_stable_conformations(atom_stable(), lennard_jones_potential, num_iterations=opt[\"simulate\"])\n",
    "#         if (iteration+opt[\"simulate\"]//2) % opt[\"simulate\"] == 0:\n",
    "#             atom_coordinates = AtomCoordinates(opt[\"num_atoms\"])\n",
    "#             atom_optimizer = optim.Adam(atom_coordinates.parameters(), lr=0.01)\n",
    "            \n",
    "        # Atom Coordinates\n",
    "        potential_energy = torch.sum(force_field(distances_matrix(atom_coordinates.coordinates).view(-1, 1)))\n",
    "        atom_optimizer.zero_grad()\n",
    "        potential_energy.backward()\n",
    "        torch.nn.utils.clip_grad_norm_(atom_coordinates.parameters(), 0.1)\n",
    "        atom_optimizer.step()\n",
    "\n",
    "        # Force Field\n",
    "        tempor_conformations = atom_coordinates.coordinates.clone().detach()\n",
    "        temp_energy = torch.sum(force_field(distances_matrix(tempor_conformations).view(-1, 1)))        \n",
    "        true_energy = torch.sum(force_field(distances_matrix(stable_conformations).view(-1, 1)))\n",
    "        energy_difference = true_energy - temp_energy\n",
    "        loss_energy = energy_difference + torch.abs(torch.mean(force_field(torch.arange(0.5, 50., 0.1).to(device).view(-1, 1))))\n",
    "        force_optimizer.zero_grad()\n",
    "        loss_energy.backward()\n",
    "        torch.nn.utils.clip_grad_norm_(force_field.parameters(), 0.1)\n",
    "        force_optimizer.step()  \n",
    "        \n",
    "#         if loss_energy < best_loss:\n",
    "#             torch.save(atom_coordinates.state_dict(), 'best_atom.pth')\n",
    "#             torch.save(force_field.state_dict(), 'best_force.pth')\n",
    "#             best_loss = loss_energy\n",
    "\n",
    "        # Print progress\n",
    "        if iteration % 1000 == 0:\n",
    "            print(f\"Iteration {iteration}, Potential Energy: {potential_energy.item()},  Energy Difference: {energy_difference.item()}\")"
   ]
  },
  {
   "cell_type": "code",
   "execution_count": 7,
   "metadata": {
    "scrolled": false
   },
   "outputs": [
    {
     "name": "stdout",
     "output_type": "stream",
     "text": [
      "Iteration 0, Potential Energy: 42221.140625,  Energy Difference: 70109.0234375\n",
      "Iteration 1000, Potential Energy: -2440268.0,  Energy Difference: -40494.75\n",
      "Iteration 2000, Potential Energy: -12666838.0,  Energy Difference: -154683.0\n",
      "Iteration 3000, Potential Energy: -20331566.0,  Energy Difference: 11422.0\n",
      "Iteration 4000, Potential Energy: -9970222.0,  Energy Difference: -20941.0\n",
      "Iteration 5000, Potential Energy: -7218089.5,  Energy Difference: -246384.5\n",
      "Iteration 6000, Potential Energy: -17557572.0,  Energy Difference: -52948.0\n",
      "Iteration 7000, Potential Energy: -28502372.0,  Energy Difference: -1338.0\n",
      "Iteration 8000, Potential Energy: -27891322.0,  Energy Difference: -136890.0\n",
      "Iteration 9000, Potential Energy: -27487652.0,  Energy Difference: 321340.0\n",
      "Iteration 10000, Potential Energy: -30514172.0,  Energy Difference: -27966.0\n",
      "Iteration 11000, Potential Energy: -24867932.0,  Energy Difference: -584058.0\n",
      "Iteration 12000, Potential Energy: -21647372.0,  Energy Difference: -80160.0\n",
      "Iteration 13000, Potential Energy: -27745298.0,  Energy Difference: -9198.0\n",
      "Iteration 14000, Potential Energy: -28469906.0,  Energy Difference: 83734.0\n",
      "Iteration 15000, Potential Energy: -33525640.0,  Energy Difference: 133642.0\n",
      "Iteration 16000, Potential Energy: 1582238.75,  Energy Difference: 192.125\n",
      "Iteration 17000, Potential Energy: -3344137.5,  Energy Difference: -484.5\n",
      "Iteration 18000, Potential Energy: 651236.375,  Energy Difference: 380.3125\n",
      "Iteration 19000, Potential Energy: 1493984.125,  Energy Difference: -69.0\n",
      "Iteration 20000, Potential Energy: -2699269.0,  Energy Difference: -124.0\n",
      "Iteration 21000, Potential Energy: 922949.1875,  Energy Difference: -108.0625\n",
      "Iteration 22000, Potential Energy: 38146096.0,  Energy Difference: -137652.0\n",
      "Iteration 23000, Potential Energy: 19872404.0,  Energy Difference: 1060.0\n",
      "Iteration 24000, Potential Energy: -1425089.75,  Energy Difference: 396.375\n",
      "Iteration 25000, Potential Energy: 555817.375,  Energy Difference: 77.375\n",
      "Iteration 26000, Potential Energy: -540151.5,  Energy Difference: 149.0\n",
      "Iteration 27000, Potential Energy: 706564.0625,  Energy Difference: -33.0\n",
      "Iteration 28000, Potential Energy: -1307262.75,  Energy Difference: 68.375\n",
      "Iteration 29000, Potential Energy: -1334918.125,  Energy Difference: 34.875\n"
     ]
    }
   ],
   "source": [
    "atom_coordinates = AtomCoordinates(opt[\"num_atoms\"]).to(device)\n",
    "force_field = ForceField(1, opt[\"hidden_size\"], 1).to(device)\n",
    "train(force_field, atom_coordinates, 30000)"
   ]
  },
  {
   "cell_type": "code",
   "execution_count": 8,
   "metadata": {
    "scrolled": false
   },
   "outputs": [
    {
     "data": {
      "image/png": "[encoded data removed]",
      "text/plain": [
       "<Figure size 640x480 with 1 Axes>"
      ]
     },
     "metadata": {},
     "output_type": "display_data"
    }
   ],
   "source": [
    "# atom_coordinates.load_state_dict(torch.load('best_atom.pth'))\n",
    "# force_field.load_state_dict(torch.load('best_force.pth'))\n",
    "\n",
    "x_data = torch.arange(0.9, 2.0, 0.001).to(device)\n",
    "y_real = lennard_jones_potential(x_data)\n",
    "y_pred = force_field(x_data.view(-1, 1)).detach()\n",
    "\n",
    "# plt.scatter(x_data.numpy(), y_real.numpy(), label='Real')\n",
    "plt.scatter(x_data.cpu().numpy(), y_pred.cpu().numpy(), label='Predict', color='red')\n",
    "plt.legend()\n",
    "plt.show()"
   ]
  },
  {
   "cell_type": "code",
   "execution_count": 9,
   "metadata": {},
   "outputs": [
    {
     "data": {
      "image/png": "[encoded data removed]",
      "text/plain": [
       "<Figure size 640x480 with 1 Axes>"
      ]
     },
     "metadata": {},
     "output_type": "display_data"
    }
   ],
   "source": [
    "x_data = torch.arange(0.9, 2.0, 0.001).to(device)\n",
    "y_real = lennard_jones_potential(x_data)\n",
    "y_pred = force_field(x_data.view(-1, 1)).detach()\n",
    "\n",
    "plt.scatter(x_data.cpu().numpy(), y_real.cpu().numpy(), label='Real')\n",
    "# plt.scatter(x_data.numpy(), y_pred.numpy(), label='Predict', color='red')\n",
    "plt.legend()\n",
    "plt.show()"
   ]
  },
  {
   "cell_type": "code",
   "execution_count": 10,
   "metadata": {},
   "outputs": [
    {
     "data": {
      "image/png": "[encoded data removed]",
      "text/plain": [
       "<Figure size 600x600 with 1 Axes>"
      ]
     },
     "metadata": {},
     "output_type": "display_data"
    }
   ],
   "source": [
    "coordinates = atom_coordinates.coordinates.cpu().detach().numpy()\n",
    "plt.figure(figsize=(6, 6)) \n",
    "plt.scatter(coordinates[:,0], coordinates[:,1])\n",
    "plt.xlabel('x')\n",
    "plt.ylabel('y')\n",
    "plt.gca().set_aspect('equal', adjustable='box')\n",
    "plt.show()"
   ]
  },
  {
   "cell_type": "code",
   "execution_count": null,
   "metadata": {},
   "outputs": [],
   "source": []
  },
  {
   "cell_type": "code",
   "execution_count": 11,
   "metadata": {},
   "outputs": [
    {
     "data": {
      "image/png": "[encoded data removed]",
      "text/plain": [
       "<Figure size 640x480 with 1 Axes>"
      ]
     },
     "metadata": {},
     "output_type": "display_data"
    }
   ],
   "source": [
    "# atom_coordinates.load_state_dict(torch.load('best_atom.pth'))\n",
    "# force_field.load_state_dict(torch.load('best_force.pth'))\n",
    "\n",
    "x_data = torch.arange(0.9, 10.0, 0.001).to(device)\n",
    "y_real = lennard_jones_potential(x_data)\n",
    "y_pred = force_field(x_data.view(-1, 1)).detach()\n",
    "\n",
    "# plt.scatter(x_data.numpy(), y_real.numpy(), label='Real')\n",
    "plt.scatter(x_data.cpu().numpy(), y_pred.cpu().numpy(), label='Predict', color='red')\n",
    "plt.legend()\n",
    "plt.show()"
   ]
  },
  {
   "cell_type": "code",
   "execution_count": 12,
   "metadata": {},
   "outputs": [
    {
     "data": {
      "image/png": "[encoded data removed]",
      "text/plain": [
       "<Figure size 640x480 with 1 Axes>"
      ]
     },
     "metadata": {},
     "output_type": "display_data"
    }
   ],
   "source": [
    "x_data = torch.arange(0.9, 10.0, 0.001).to(device)\n",
    "y_real = lennard_jones_potential(x_data)\n",
    "y_pred = force_field(x_data.view(-1, 1)).detach()\n",
    "\n",
    "plt.scatter(x_data.cpu().numpy(), y_real.cpu().numpy(), label='Real')\n",
    "# plt.scatter(x_data.numpy(), y_pred.numpy(), label='Predict', color='red')\n",
    "plt.legend()\n",
    "plt.show()"
   ]
  },
  {
   "cell_type": "code",
   "execution_count": null,
   "metadata": {},
   "outputs": [],
   "source": []
  },
  {
   "cell_type": "code",
   "execution_count": null,
   "metadata": {},
   "outputs": [],
   "source": []
  },
  {
   "cell_type": "code",
   "execution_count": null,
   "metadata": {},
   "outputs": [],
   "source": []
  },
  {
   "cell_type": "code",
   "execution_count": null,
   "metadata": {},
   "outputs": [],
   "source": []
  },
  {
   "cell_type": "code",
   "execution_count": null,
   "metadata": {},
   "outputs": [],
   "source": []
  },
  {
   "cell_type": "code",
   "execution_count": null,
   "metadata": {},
   "outputs": [],
   "source": []
  },
  {
   "cell_type": "code",
   "execution_count": null,
   "metadata": {},
   "outputs": [],
   "source": []
  },
  {
   "cell_type": "code",
   "execution_count": null,
   "metadata": {},
   "outputs": [],
   "source": []
  },
  {
   "cell_type": "code",
   "execution_count": null,
   "metadata": {},
   "outputs": [],
   "source": []
  },
  {
   "cell_type": "code",
   "execution_count": null,
   "metadata": {},
   "outputs": [],
   "source": []
  },
  {
   "cell_type": "code",
   "execution_count": null,
   "metadata": {},
   "outputs": [],
   "source": []
  },
  {
   "cell_type": "code",
   "execution_count": null,
   "metadata": {},
   "outputs": [],
   "source": []
  },
  {
   "cell_type": "code",
   "execution_count": null,
   "metadata": {},
   "outputs": [],
   "source": []
  },
  {
   "cell_type": "code",
   "execution_count": null,
   "metadata": {},
   "outputs": [],
   "source": []
  },
  {
   "cell_type": "code",
   "execution_count": null,
   "metadata": {},
   "outputs": [],
   "source": []
  },
  {
   "cell_type": "code",
   "execution_count": null,
   "metadata": {},
   "outputs": [],
   "source": []
  },
  {
   "cell_type": "code",
   "execution_count": null,
   "metadata": {},
   "outputs": [],
   "source": []
  },
  {
   "cell_type": "code",
   "execution_count": null,
   "metadata": {},
   "outputs": [],
   "source": []
  },
  {
   "cell_type": "code",
   "execution_count": null,
   "metadata": {},
   "outputs": [],
   "source": []
  },
  {
   "cell_type": "code",
   "execution_count": null,
   "metadata": {},
   "outputs": [],
   "source": [
    "# Data\n",
    "def lennard_jones_potential(r, eps=1e-1):\n",
    "    return 1.5**12 / (r+eps)**12 - 1.5**6 / (r+eps)**6\n",
    "#     return 1 / (r+eps)**12 - 1 / (r+eps)**6\n",
    "\n",
    "def distances_matrix(coordinates):\n",
    "    matrix_size = coordinates.shape[0]\n",
    "    distances = torch.cdist(coordinates, coordinates)\n",
    "    indices = torch.triu_indices(matrix_size, matrix_size, offset=1)\n",
    "    distances = distances[indices[0], indices[1]]\n",
    "    return distances\n",
    "\n",
    "def simulate_stable_conformations(atom_coordinates, force_field, num_iterations=100, lr=0.01):\n",
    "    optimizer = optim.Adam([atom_coordinates], lr=lr)\n",
    "    \n",
    "    for iteration in range(num_iterations):\n",
    "        potential_energy = torch.sum(force_field(distances_matrix(atom_coordinates).view(-1, 1)))\n",
    "\n",
    "        optimizer.zero_grad()\n",
    "        potential_energy.backward()\n",
    "        torch.nn.utils.clip_grad_norm_(atom_coordinates, 1)\n",
    "        optimizer.step()\n",
    "\n",
    "        if iteration % 1000 == -1:\n",
    "            print(f\"Iteration {iteration}, Potential Energy: {potential_energy.item()}\")\n",
    "\n",
    "    return atom_coordinates"
   ]
  },
  {
   "cell_type": "code",
   "execution_count": null,
   "metadata": {},
   "outputs": [],
   "source": []
  },
  {
   "cell_type": "code",
   "execution_count": null,
   "metadata": {},
   "outputs": [],
   "source": []
  },
  {
   "cell_type": "code",
   "execution_count": null,
   "metadata": {},
   "outputs": [],
   "source": []
  },
  {
   "cell_type": "code",
   "execution_count": null,
   "metadata": {},
   "outputs": [],
   "source": []
  },
  {
   "cell_type": "code",
   "execution_count": null,
   "metadata": {},
   "outputs": [],
   "source": []
  },
  {
   "cell_type": "code",
   "execution_count": null,
   "metadata": {},
   "outputs": [],
   "source": []
  },
  {
   "cell_type": "code",
   "execution_count": null,
   "metadata": {},
   "outputs": [],
   "source": []
  },
  {
   "cell_type": "code",
   "execution_count": null,
   "metadata": {
    "scrolled": true
   },
   "outputs": [],
   "source": [
    "x_data = torch.arange(0.9, 5.0, 0.001)\n",
    "y_real = lennard_jones_potential(x_data)\n",
    "y_pred = force_field(x_data.view(-1, 1)).detach()\n",
    "\n",
    "plt.scatter(x_data.numpy(), y_real.numpy(), label='Real')\n",
    "# plt.scatter(x_data.numpy(), y_pred.numpy(), label='Predict', color='red')\n",
    "plt.legend()\n",
    "plt.show()"
   ]
  },
  {
   "cell_type": "code",
   "execution_count": 31,
   "metadata": {},
   "outputs": [],
   "source": [
    "# Data\n",
    "def lennard_jones_potential(r, eps=1e-1):\n",
    "#     return 1.5**12 / (r+eps)**12 - 1.5**6 / (r+eps)**6\n",
    "    return 1 / (r+eps)**12 - 1 / (r+eps)**6\n",
    "\n",
    "def distances_matrix(coordinates):\n",
    "    matrix_size = coordinates.shape[0]\n",
    "    distances = torch.cdist(coordinates, coordinates)\n",
    "    indices = torch.triu_indices(matrix_size, matrix_size, offset=1)\n",
    "    distances = distances[indices[0], indices[1]]\n",
    "    return distances\n",
    "\n",
    "def simulate_stable_conformations(atom_coordinates, force_field, num_iterations=100, lr=0.01):\n",
    "    optimizer = optim.Adam([atom_coordinates], lr=lr)\n",
    "    \n",
    "    for iteration in range(num_iterations):\n",
    "        potential_energy = torch.sum(force_field(distances_matrix(atom_coordinates).view(-1, 1)))\n",
    "\n",
    "        optimizer.zero_grad()\n",
    "        potential_energy.backward()\n",
    "        torch.nn.utils.clip_grad_norm_(atom_coordinates, 1)\n",
    "        optimizer.step()\n",
    "\n",
    "        if iteration % 1000 == -1:\n",
    "            print(f\"Iteration {iteration}, Potential Energy: {potential_energy.item()}\")\n",
    "\n",
    "    return atom_coordinates"
   ]
  },
  {
   "cell_type": "code",
   "execution_count": 32,
   "metadata": {
    "scrolled": false
   },
   "outputs": [],
   "source": [
    "stable_coordinates = AtomCoordinates(opt[\"num_atoms\"])\n",
    "stable_conformations = simulate_stable_conformations(stable_coordinates(), lennard_jones_potential, num_iterations=5000)\n",
    "coordinates = stable_conformations.data.numpy()"
   ]
  },
  {
   "cell_type": "code",
   "execution_count": 37,
   "metadata": {},
   "outputs": [
    {
     "data": {
      "image/png": "[encoded data removed]",
      "text/plain": [
       "<Figure size 600x600 with 1 Axes>"
      ]
     },
     "metadata": {},
     "output_type": "display_data"
    }
   ],
   "source": [
    "plt.figure(figsize=(6, 6)) \n",
    "plt.scatter(coordinates[:,0], coordinates[:,1])\n",
    "plt.xlabel('x')\n",
    "plt.ylabel('y')\n",
    "plt.gca().set_aspect('equal', adjustable='box')\n",
    "plt.show()"
   ]
  },
  {
   "cell_type": "code",
   "execution_count": null,
   "metadata": {},
   "outputs": [],
   "source": []
  },
  {
   "cell_type": "code",
   "execution_count": 22,
   "metadata": {},
   "outputs": [
    {
     "data": {
      "text/plain": [
       "Parameter containing:\n",
       "tensor([[ 0.4397,  0.1124],\n",
       "        [ 0.6408,  0.4412],\n",
       "        [ 0.2055, -0.4503],\n",
       "        [-0.5731, -0.5554],\n",
       "        [ 0.5943,  1.5419],\n",
       "        [ 0.5073, -0.5910],\n",
       "        [-1.3253,  0.1886],\n",
       "        [-0.0691, -0.4949],\n",
       "        [-1.4959, -0.1938],\n",
       "        [ 0.4455,  1.3253]], requires_grad=True)"
      ]
     },
     "execution_count": 22,
     "metadata": {},
     "output_type": "execute_result"
    }
   ],
   "source": [
    "stable_coordinates()"
   ]
  },
  {
   "cell_type": "code",
   "execution_count": null,
   "metadata": {},
   "outputs": [],
   "source": []
  },
  {
   "cell_type": "code",
   "execution_count": null,
   "metadata": {},
   "outputs": [],
   "source": []
  },
  {
   "cell_type": "code",
   "execution_count": 19,
   "metadata": {},
   "outputs": [
    {
     "ename": "NameError",
     "evalue": "name 'force_field' is not defined",
     "output_type": "error",
     "traceback": [
      "\u001b[0;31m---------------------------------------------------------------------------\u001b[0m",
      "\u001b[0;31mNameError\u001b[0m                                 Traceback (most recent call last)",
      "Cell \u001b[0;32mIn[19], line 2\u001b[0m\n\u001b[1;32m      1\u001b[0m stable_coordinates \u001b[38;5;241m=\u001b[39m AtomCoordinates(\u001b[38;5;241m10\u001b[39m)\n\u001b[0;32m----> 2\u001b[0m stable_conformations \u001b[38;5;241m=\u001b[39m simulate_stable_conformations(stable_coordinates(), \u001b[43mforce_field\u001b[49m, num_iterations\u001b[38;5;241m=\u001b[39m\u001b[38;5;241m1000\u001b[39m)\n\u001b[1;32m      3\u001b[0m coordinates \u001b[38;5;241m=\u001b[39m stable_conformations\u001b[38;5;241m.\u001b[39mdata\u001b[38;5;241m.\u001b[39mnumpy()\n",
      "\u001b[0;31mNameError\u001b[0m: name 'force_field' is not defined"
     ]
    }
   ],
   "source": [
    "stable_coordinates = AtomCoordinates(10)\n",
    "stable_conformations = simulate_stable_conformations(stable_coordinates(), force_field, num_iterations=1000)\n",
    "coordinates = stable_conformations.data.numpy()"
   ]
  },
  {
   "cell_type": "code",
   "execution_count": null,
   "metadata": {},
   "outputs": [],
   "source": [
    "plt.scatter(range(len(coordinates)), np.sort(coordinates))\n",
    "plt.xlabel('Atom Index')\n",
    "plt.ylabel('Atom Coordinates')\n",
    "plt.title('1D Scatter Plot of Atom Coordinates')\n",
    "plt.show()"
   ]
  },
  {
   "cell_type": "code",
   "execution_count": null,
   "metadata": {},
   "outputs": [],
   "source": []
  },
  {
   "cell_type": "code",
   "execution_count": null,
   "metadata": {},
   "outputs": [],
   "source": []
  },
  {
   "cell_type": "code",
   "execution_count": null,
   "metadata": {},
   "outputs": [],
   "source": []
  },
  {
   "cell_type": "code",
   "execution_count": null,
   "metadata": {},
   "outputs": [],
   "source": []
  },
  {
   "cell_type": "code",
   "execution_count": null,
   "metadata": {},
   "outputs": [],
   "source": []
  },
  {
   "cell_type": "code",
   "execution_count": null,
   "metadata": {},
   "outputs": [],
   "source": []
  },
  {
   "cell_type": "code",
   "execution_count": null,
   "metadata": {},
   "outputs": [],
   "source": []
  },
  {
   "cell_type": "code",
   "execution_count": null,
   "metadata": {},
   "outputs": [],
   "source": []
  },
  {
   "cell_type": "code",
   "execution_count": null,
   "metadata": {},
   "outputs": [],
   "source": []
  },
  {
   "cell_type": "code",
   "execution_count": null,
   "metadata": {},
   "outputs": [],
   "source": []
  },
  {
   "cell_type": "code",
   "execution_count": null,
   "metadata": {},
   "outputs": [],
   "source": [
    "# Data\n",
    "def lennard_jones_potential(r, eps=1e-1):\n",
    "    return 1 / (r+eps)**12 - 1 / (r+eps)**6\n",
    "\n",
    "def distances_matrix(coordinates):\n",
    "    matrix_size = coordinates.shape[0]\n",
    "    distances = torch.cdist(coordinates.view(-1, 1), coordinates.view(-1, 1))\n",
    "    indices = torch.triu_indices(matrix_size, matrix_size, offset=1)\n",
    "    distances = distances[indices[0], indices[1]]\n",
    "    return distances\n",
    "\n",
    "def simulate_stable_conformations(atom_coordinates, force_field=lennard_jones_potential, num_iterations=1000, lr=0.01):\n",
    "    optimizer = optim.Adam([atom_coordinates], lr=lr)\n",
    "    \n",
    "    for iteration in range(num_iterations):\n",
    "        potential_energy = torch.sum(force_field(distances_matrix(atom_coordinates)))\n",
    "\n",
    "        optimizer.zero_grad()\n",
    "        potential_energy.backward(retain_graph=True)\n",
    "        torch.nn.utils.clip_grad_norm_(atom_coordinates, 1)\n",
    "        optimizer.step()\n",
    "\n",
    "        if iteration % 500 == 0:\n",
    "            print(f\"Iteration {iteration}, Potential Energy: {potential_energy.item()}\")\n",
    "\n",
    "    return atom_coordinates"
   ]
  },
  {
   "cell_type": "code",
   "execution_count": null,
   "metadata": {},
   "outputs": [],
   "source": [
    "atom_coordinates()"
   ]
  },
  {
   "cell_type": "code",
   "execution_count": null,
   "metadata": {},
   "outputs": [],
   "source": [
    "stable_conformations"
   ]
  },
  {
   "cell_type": "code",
   "execution_count": null,
   "metadata": {},
   "outputs": [],
   "source": []
  },
  {
   "cell_type": "code",
   "execution_count": null,
   "metadata": {},
   "outputs": [],
   "source": []
  },
  {
   "cell_type": "code",
   "execution_count": 28,
   "metadata": {},
   "outputs": [
    {
     "name": "stdout",
     "output_type": "stream",
     "text": [
      "tensor([[1., 2., 5.],\n",
      "        [2., 1., 4.],\n",
      "        [5., 4., 5.]])\n"
     ]
    }
   ],
   "source": [
    "# a = torch.tensor([1., 4., 7.])\n",
    "# b = torch.tensor([2., 3., 4.])\n",
    "# dis = torch.cdist(a.view(-1, 1), b.view(-1, 1))\n",
    "a = torch.tensor([[1., 0.], [4., 0.], [7., 0.]])\n",
    "b = torch.tensor([[2., 0.], [3., 0.], [4., 4.]])\n",
    "dis = torch.cdist(a, b)\n",
    "print(dis)"
   ]
  },
  {
   "cell_type": "code",
   "execution_count": null,
   "metadata": {},
   "outputs": [],
   "source": [
    "a = torch.tensor([[1, 2, 3], [4, 5, 6], [7, 8, 9]])\n",
    "b = torch.tensor([[10, 10, 10], [10, 10, 10], [10, 10, 10]])\n",
    "torch.tril(a, diagonal=-1) + torch.triu(b, diagonal=0)"
   ]
  },
  {
   "cell_type": "code",
   "execution_count": null,
   "metadata": {},
   "outputs": [],
   "source": [
    "a.view(-1)"
   ]
  },
  {
   "cell_type": "code",
   "execution_count": null,
   "metadata": {},
   "outputs": [],
   "source": []
  },
  {
   "cell_type": "code",
   "execution_count": null,
   "metadata": {},
   "outputs": [],
   "source": [
    "# Create a square matrix\n",
    "matrix_size = 5\n",
    "matrix = torch.randn(matrix_size, matrix_size)\n",
    "\n",
    "# Get the upper triangle indices\n",
    "upper_triangle_indices = torch.triu_indices(matrix_size, matrix_size, offset=1)\n",
    "\n",
    "# Slice the upper triangle of the matrix\n",
    "upper_triangle_values = matrix[upper_triangle_indices[0], upper_triangle_indices[1]]\n",
    "\n",
    "print(\"Original Matrix:\")\n",
    "print(matrix)\n",
    "\n",
    "print(\"\\nUpper Triangle Values:\")\n",
    "print(upper_triangle_values)"
   ]
  },
  {
   "cell_type": "code",
   "execution_count": null,
   "metadata": {},
   "outputs": [],
   "source": []
  },
  {
   "cell_type": "code",
   "execution_count": null,
   "metadata": {},
   "outputs": [],
   "source": []
  },
  {
   "cell_type": "code",
   "execution_count": null,
   "metadata": {},
   "outputs": [],
   "source": []
  },
  {
   "cell_type": "code",
   "execution_count": null,
   "metadata": {},
   "outputs": [],
   "source": [
    "# Train\n",
    "def train(force_field, atom_coordinates, num_iterations=1000):\n",
    "    away_coordinates = AtomCoordinates(opt[\"num_atoms\"], 10)\n",
    "    atom_optimizer = optim.Adam([\n",
    "        {'params': atom_coordinates.parameters()},\n",
    "        {'params': away_coordinates.parameters()}\n",
    "    ], lr=0.01)\n",
    "    force_optimizer = optim.Adam(force_field.parameters(), lr=0.01)\n",
    "    \n",
    "    for iteration in range(num_iterations): \n",
    "        # MD Simulation\n",
    "        if iteration % opt[\"simulate\"] == 0:\n",
    "            atom_stable = AtomCoordinates(opt[\"num_atoms\"])\n",
    "            stable_conformations = simulate_stable_conformations(atom_stable(), lennard_jones_potential, num_iterations=opt[\"simulate\"])\n",
    "        if (iteration+opt[\"simulate\"]//2) % opt[\"simulate\"] == 0:\n",
    "            away_coordinates = AtomCoordinates(opt[\"num_atoms\"], 10)\n",
    "            \n",
    "        best_loss = float('inf')\n",
    "        # Atom Coordinates\n",
    "        potential_energy_atom = torch.sum(force_field(distances_matrix(atom_coordinates.coordinates).view(-1, 1)))\n",
    "        potential_energy_away = torch.sum(force_field(distances_matrix(away_coordinates.coordinates).view(-1, 1)))\n",
    "        potential_energy = potential_energy_atom + potential_energy_away\n",
    "        atom_optimizer.zero_grad()\n",
    "        potential_energy.backward()\n",
    "        torch.nn.utils.clip_grad_norm_(atom_coordinates.parameters(), 0.1)\n",
    "        torch.nn.utils.clip_grad_norm_(away_coordinates.parameters(), 0.1)\n",
    "        atom_optimizer.step()\n",
    "\n",
    "        # Force Field\n",
    "        tempor_conformations_atom = atom_coordinates.coordinates.clone().detach()\n",
    "        tempor_conformations_away = away_coordinates.coordinates.clone().detach()\n",
    "        temp_energy_atom = torch.sum(force_field(distances_matrix(tempor_conformations_atom).view(-1, 1)))        \n",
    "        temp_energy_away = torch.sum(force_field(distances_matrix(tempor_conformations_away).view(-1, 1)))        \n",
    "        true_energy = torch.sum(force_field(distances_matrix(stable_conformations).view(-1, 1)))\n",
    "        energy_difference = true_energy - temp_energy_atom  + true_energy - temp_energy_away\n",
    "        loss_energy = energy_difference + torch.abs(torch.mean(force_field(torch.arange(0.5, 50., 0.1).view(-1, 1))))\n",
    "        force_optimizer.zero_grad()\n",
    "        loss_energy.backward()\n",
    "        torch.nn.utils.clip_grad_norm_(force_field.parameters(), 0.1)\n",
    "        force_optimizer.step()  \n",
    "        \n",
    "        if loss_energy < best_loss:\n",
    "            torch.save(atom_coordinates.state_dict(), 'best_atom.pth')\n",
    "            torch.save(force_field.state_dict(), 'best_force.pth')\n",
    "            best_loss = loss_energy\n",
    "\n",
    "        # Print progress\n",
    "        if iteration % 1000 == 0:\n",
    "            print(f\"Iteration {iteration}, Potential Energy: {potential_energy.item()},  Energy Difference: {energy_difference.item()}\")"
   ]
  },
  {
   "cell_type": "code",
   "execution_count": null,
   "metadata": {},
   "outputs": [],
   "source": []
  }
 ],
 "metadata": {
  "kernelspec": {
   "display_name": "local-venv",
   "language": "python",
   "name": "local-venv"
  },
  "language_info": {
   "codemirror_mode": {
    "name": "ipython",
    "version": 3
   },
   "file_extension": ".py",
   "mimetype": "text/x-python",
   "name": "python",
   "nbconvert_exporter": "python",
   "pygments_lexer": "ipython3",
   "version": "3.8.10"
  }
 },
 "nbformat": 4,
 "nbformat_minor": 4
}

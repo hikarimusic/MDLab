{
 "cells": [
  {
   "cell_type": "code",
   "execution_count": 1,
   "metadata": {},
   "outputs": [
    {
     "data": {
      "text/plain": [
       "True"
      ]
     },
     "execution_count": 1,
     "metadata": {},
     "output_type": "execute_result"
    }
   ],
   "source": [
    "import torch\n",
    "import torch.nn as nn\n",
    "import torch.optim as optim\n",
    "import numpy as np\n",
    "import seaborn as sns\n",
    "import matplotlib.pyplot as plt\n",
    "device = 'cuda:0'\n",
    "torch.manual_seed(0)\n",
    "torch.cuda.is_available()"
   ]
  },
  {
   "cell_type": "code",
   "execution_count": 2,
   "metadata": {},
   "outputs": [],
   "source": [
    "opt = {\n",
    "    \"num_atoms\":5,\n",
    "    \"hidden_size\": 10\n",
    "}"
   ]
  },
  {
   "cell_type": "code",
   "execution_count": 3,
   "metadata": {},
   "outputs": [],
   "source": [
    "# Force Field\n",
    "class ForceField(nn.Module):\n",
    "    def __init__(self, input_size, hidden_size, output_size):\n",
    "        super(ForceField, self).__init__()\n",
    "        self.layer1 = nn.Linear(input_size, hidden_size)\n",
    "        self.activation = nn.Sigmoid()\n",
    "        self.layer2 = nn.Linear(hidden_size, output_size)\n",
    "\n",
    "    def forward(self, x):\n",
    "        x = self.layer1(x)\n",
    "        x = self.activation(x)\n",
    "        x = self.layer2(x)\n",
    "        return x"
   ]
  },
  {
   "cell_type": "code",
   "execution_count": 4,
   "metadata": {},
   "outputs": [],
   "source": [
    "# Atom Coordinates\n",
    "class AtomCoordinates(nn.Module):\n",
    "    def __init__(self, num_atoms):\n",
    "        super(AtomCoordinates, self).__init__()\n",
    "        self.coordinates = nn.Parameter(torch.randn(num_atoms))\n",
    "\n",
    "    def forward(self):\n",
    "        return self.coordinates"
   ]
  },
  {
   "cell_type": "code",
   "execution_count": 5,
   "metadata": {},
   "outputs": [],
   "source": [
    "# Data\n",
    "def lennard_jones_potential(r, eps=1e-1):\n",
    "    return 1 / (r+eps)**12 - 1 / (r+eps)**6\n",
    "\n",
    "def distances_matrix(coordinates):\n",
    "    matrix_size = coordinates.shape[0]\n",
    "    distances = torch.cdist(coordinates.view(-1, 1), coordinates.view(-1, 1))\n",
    "    indices = torch.triu_indices(matrix_size, matrix_size, offset=1)\n",
    "    distances = distances[indices[0], indices[1]]\n",
    "    return distances\n",
    "\n",
    "def simulate_stable_conformations(atom_coordinates, force_field, num_iterations=100, lr=0.01):\n",
    "    optimizer = optim.Adam([atom_coordinates], lr=lr)\n",
    "    \n",
    "    for iteration in range(num_iterations):\n",
    "        potential_energy = torch.sum(force_field(distances_matrix(atom_coordinates).view(-1, 1)))\n",
    "\n",
    "        optimizer.zero_grad()\n",
    "        potential_energy.backward()\n",
    "        torch.nn.utils.clip_grad_norm_(atom_coordinates, 1)\n",
    "        optimizer.step()\n",
    "\n",
    "        if iteration % 1000 == -1:\n",
    "            print(f\"Iteration {iteration}, Potential Energy: {potential_energy.item()}\")\n",
    "\n",
    "    return atom_coordinates"
   ]
  },
  {
   "cell_type": "code",
   "execution_count": 6,
   "metadata": {},
   "outputs": [],
   "source": [
    "# Train\n",
    "def train(force_field, atom_coordinates, num_iterations=1000):\n",
    "    atom_optimizer = optim.Adam(atom_coordinates.parameters(), lr=0.01)\n",
    "    force_optimizer = optim.Adam(force_field.parameters(), lr=0.01)\n",
    "    \n",
    "    for iteration in range(num_iterations): \n",
    "        # MD Simulation\n",
    "        if iteration % 1000 == 0:\n",
    "            atom_stable = AtomCoordinates(opt[\"num_atoms\"])\n",
    "            stable_conformations = simulate_stable_conformations(atom_stable(), lennard_jones_potential, num_iterations=1000)\n",
    "    \n",
    "        # Atom Coordinates\n",
    "#         atom_coordinates = AtomCoordinates(opt[\"num_atoms\"])\n",
    "        potential_energy = torch.sum(force_field(distances_matrix(atom_coordinates.coordinates).view(-1, 1)))\n",
    "        atom_optimizer.zero_grad()\n",
    "        potential_energy.backward()\n",
    "        torch.nn.utils.clip_grad_norm_(atom_coordinates.parameters(), 0.1)\n",
    "        atom_optimizer.step()\n",
    "\n",
    "        # Force Field\n",
    "        tempor_conformations = atom_coordinates.coordinates.clone().detach()\n",
    "        temp_energy = torch.sum(force_field(distances_matrix(tempor_conformations).view(-1, 1)))        \n",
    "        true_energy = torch.sum(force_field(distances_matrix(stable_conformations).view(-1, 1)))\n",
    "        energy_difference = true_energy - temp_energy\n",
    "        loss_energy = energy_difference + torch.mean(torch.abs(force_field(torch.arange(0.5, 10., 0.1).view(-1, 1))))\n",
    "        force_optimizer.zero_grad()\n",
    "        loss_energy.backward()\n",
    "        torch.nn.utils.clip_grad_norm_(force_field.parameters(), 0.1)\n",
    "        force_optimizer.step()        \n",
    "\n",
    "        # Print progress\n",
    "        if iteration % 1000 == 0:\n",
    "            print(f\"Iteration {iteration}, Potential Energy: {potential_energy.item()},  Energy Difference: {energy_difference.item()}\")"
   ]
  },
  {
   "cell_type": "code",
   "execution_count": 10,
   "metadata": {
    "scrolled": false
   },
   "outputs": [
    {
     "name": "stdout",
     "output_type": "stream",
     "text": [
      "Iteration 0, Potential Energy: -1.8033716678619385,  Energy Difference: -0.13215458393096924\n",
      "Iteration 1000, Potential Energy: -0.7742198705673218,  Energy Difference: -0.9084894061088562\n",
      "Iteration 2000, Potential Energy: -3.3847386837005615,  Energy Difference: -0.9433598518371582\n",
      "Iteration 3000, Potential Energy: -2.713705539703369,  Energy Difference: 0.05432748794555664\n",
      "Iteration 4000, Potential Energy: 0.3025851845741272,  Energy Difference: 0.27784860134124756\n",
      "Iteration 5000, Potential Energy: 0.06710290908813477,  Energy Difference: -0.1881875991821289\n",
      "Iteration 6000, Potential Energy: -1.914534330368042,  Energy Difference: 0.19309842586517334\n",
      "Iteration 7000, Potential Energy: -1.5695483684539795,  Energy Difference: 0.13619327545166016\n",
      "Iteration 8000, Potential Energy: -1.2250369787216187,  Energy Difference: 0.08260321617126465\n",
      "Iteration 9000, Potential Energy: -0.23925316333770752,  Energy Difference: 0.03874683380126953\n",
      "Iteration 10000, Potential Energy: -0.8639929890632629,  Energy Difference: 0.04556548595428467\n",
      "Iteration 11000, Potential Energy: -0.14746952056884766,  Energy Difference: 0.0027761459350585938\n",
      "Iteration 12000, Potential Energy: -0.6923704147338867,  Energy Difference: 0.005495309829711914\n",
      "Iteration 13000, Potential Energy: -0.4670201539993286,  Energy Difference: 0.05155658721923828\n",
      "Iteration 14000, Potential Energy: -0.07626736164093018,  Energy Difference: 0.056643009185791016\n",
      "Iteration 15000, Potential Energy: -0.23611736297607422,  Energy Difference: -0.04400444030761719\n",
      "Iteration 16000, Potential Energy: 0.15479004383087158,  Energy Difference: 0.045124053955078125\n",
      "Iteration 17000, Potential Energy: -0.16300809383392334,  Energy Difference: -0.012831449508666992\n",
      "Iteration 18000, Potential Energy: -1.436409592628479,  Energy Difference: 0.16482114791870117\n",
      "Iteration 19000, Potential Energy: -0.18331921100616455,  Energy Difference: 0.00013405084609985352\n",
      "Iteration 20000, Potential Energy: -0.3832700252532959,  Energy Difference: 0.03055262565612793\n",
      "Iteration 21000, Potential Energy: -0.27992135286331177,  Energy Difference: 0.03308427333831787\n",
      "Iteration 22000, Potential Energy: -0.08039194345474243,  Energy Difference: 0.000385284423828125\n",
      "Iteration 23000, Potential Energy: -0.12491190433502197,  Energy Difference: -0.00040781497955322266\n",
      "Iteration 24000, Potential Energy: -0.3214731216430664,  Energy Difference: -0.0002027750015258789\n",
      "Iteration 25000, Potential Energy: -0.7096585035324097,  Energy Difference: 0.01021808385848999\n",
      "Iteration 26000, Potential Energy: -0.525946319103241,  Energy Difference: -0.05728864669799805\n",
      "Iteration 27000, Potential Energy: -0.19562458992004395,  Energy Difference: 0.0005417466163635254\n",
      "Iteration 28000, Potential Energy: -0.28781425952911377,  Energy Difference: -0.005963921546936035\n",
      "Iteration 29000, Potential Energy: -0.24354475736618042,  Energy Difference: -0.04488086700439453\n"
     ]
    }
   ],
   "source": [
    "atom_coordinates = AtomCoordinates(opt[\"num_atoms\"])\n",
    "force_field = ForceField(1, opt[\"hidden_size\"], 1)\n",
    "train(force_field, atom_coordinates, 30000)"
   ]
  },
  {
   "cell_type": "code",
   "execution_count": 11,
   "metadata": {},
   "outputs": [
    {
     "data": {
      "image/png": "[encoded data removed]",
      "text/plain": [
       "<Figure size 640x480 with 1 Axes>"
      ]
     },
     "metadata": {},
     "output_type": "display_data"
    }
   ],
   "source": [
    "x_data = torch.arange(0.5, 5.0, 0.001)\n",
    "y_real = lennard_jones_potential(x_data)\n",
    "y_pred = force_field(x_data.view(-1, 1)).detach()\n",
    "\n",
    "# plt.scatter(x_data.numpy(), y_real.numpy(), label='Real')\n",
    "plt.scatter(x_data.numpy(), y_pred.numpy(), label='Predict', color='red')\n",
    "plt.legend()\n",
    "plt.show()"
   ]
  },
  {
   "cell_type": "code",
   "execution_count": 12,
   "metadata": {},
   "outputs": [
    {
     "data": {
      "image/png": "[encoded data removed]",
      "text/plain": [
       "<Figure size 640x480 with 1 Axes>"
      ]
     },
     "metadata": {},
     "output_type": "display_data"
    }
   ],
   "source": [
    "coordinates = atom_coordinates.coordinates.detach().numpy()\n",
    "\n",
    "plt.scatter(range(len(coordinates)), np.sort(coordinates))\n",
    "plt.xlabel('Atom Index')\n",
    "plt.ylabel('Atom Coordinates')\n",
    "plt.title('1D Scatter Plot of Atom Coordinates')\n",
    "plt.show()"
   ]
  },
  {
   "cell_type": "code",
   "execution_count": null,
   "metadata": {},
   "outputs": [],
   "source": []
  },
  {
   "cell_type": "code",
   "execution_count": null,
   "metadata": {},
   "outputs": [],
   "source": []
  },
  {
   "cell_type": "code",
   "execution_count": null,
   "metadata": {},
   "outputs": [],
   "source": []
  },
  {
   "cell_type": "code",
   "execution_count": null,
   "metadata": {},
   "outputs": [],
   "source": []
  },
  {
   "cell_type": "code",
   "execution_count": null,
   "metadata": {},
   "outputs": [],
   "source": []
  },
  {
   "cell_type": "code",
   "execution_count": null,
   "metadata": {},
   "outputs": [],
   "source": []
  },
  {
   "cell_type": "code",
   "execution_count": null,
   "metadata": {},
   "outputs": [],
   "source": []
  },
  {
   "cell_type": "code",
   "execution_count": null,
   "metadata": {},
   "outputs": [],
   "source": []
  },
  {
   "cell_type": "code",
   "execution_count": null,
   "metadata": {},
   "outputs": [],
   "source": []
  },
  {
   "cell_type": "code",
   "execution_count": null,
   "metadata": {},
   "outputs": [],
   "source": []
  },
  {
   "cell_type": "code",
   "execution_count": null,
   "metadata": {},
   "outputs": [],
   "source": []
  },
  {
   "cell_type": "code",
   "execution_count": null,
   "metadata": {},
   "outputs": [],
   "source": []
  },
  {
   "cell_type": "code",
   "execution_count": null,
   "metadata": {
    "scrolled": true
   },
   "outputs": [],
   "source": [
    "x_data = torch.arange(0.9, 5.0, 0.001)\n",
    "y_real = lennard_jones_potential(x_data)\n",
    "y_pred = force_field(x_data.view(-1, 1)).detach()\n",
    "\n",
    "plt.scatter(x_data.numpy(), y_real.numpy(), label='Real')\n",
    "# plt.scatter(x_data.numpy(), y_pred.numpy(), label='Predict', color='red')\n",
    "plt.legend()\n",
    "plt.show()"
   ]
  },
  {
   "cell_type": "code",
   "execution_count": null,
   "metadata": {},
   "outputs": [],
   "source": [
    "# Data\n",
    "def lennard_jones_potential(r, eps=1e-1):\n",
    "    return 1 / (r+eps)**12 - 1 / (r+eps)**6\n",
    "\n",
    "def distances_matrix(coordinates):\n",
    "    matrix_size = coordinates.shape[0]\n",
    "    distances = torch.cdist(coordinates.view(-1, 1), coordinates.view(-1, 1))\n",
    "    indices = torch.triu_indices(matrix_size, matrix_size, offset=1)\n",
    "    distances = distances[indices[0], indices[1]]\n",
    "    return distances\n",
    "\n",
    "def simulate_stable_conformations(atom_coordinates, force_field, num_iterations=5000, lr=0.01):\n",
    "    optimizer = optim.Adam([atom_coordinates], lr=lr)\n",
    "    \n",
    "    for iteration in range(num_iterations):\n",
    "        potential_energy = torch.sum(force_field(distances_matrix(atom_coordinates).view(-1, 1)))\n",
    "\n",
    "        optimizer.zero_grad()\n",
    "        potential_energy.backward()\n",
    "        torch.nn.utils.clip_grad_norm_(atom_coordinates, 1)\n",
    "        optimizer.step()\n",
    "\n",
    "        if iteration % 1000 == -1:\n",
    "            print(f\"Iteration {iteration}, Potential Energy: {potential_energy.item()}\")\n",
    "\n",
    "    return atom_coordinates"
   ]
  },
  {
   "cell_type": "code",
   "execution_count": null,
   "metadata": {
    "scrolled": false
   },
   "outputs": [],
   "source": [
    "stable_coordinates = AtomCoordinates(opt[\"num_atoms\"])\n",
    "stable_conformations = simulate_stable_conformations(stable_coordinates(), lennard_jones_potential, num_iterations=100)\n",
    "coordinates = stable_conformations.data.numpy()"
   ]
  },
  {
   "cell_type": "code",
   "execution_count": null,
   "metadata": {},
   "outputs": [],
   "source": [
    "plt.scatter(range(len(coordinates)), np.sort(coordinates))\n",
    "plt.xlabel('Atom Index')\n",
    "plt.ylabel('Atom Coordinates')\n",
    "plt.title('1D Scatter Plot of Atom Coordinates')\n",
    "plt.show()"
   ]
  },
  {
   "cell_type": "code",
   "execution_count": null,
   "metadata": {},
   "outputs": [],
   "source": [
    "stable_coordinates = AtomCoordinates(100)\n",
    "stable_conformations = simulate_stable_conformations(stable_coordinates(), force_field, num_iterations=5000)\n",
    "coordinates = stable_conformations.data.numpy()"
   ]
  },
  {
   "cell_type": "code",
   "execution_count": null,
   "metadata": {},
   "outputs": [],
   "source": [
    "plt.scatter(range(len(coordinates)), np.sort(coordinates))\n",
    "plt.xlabel('Atom Index')\n",
    "plt.ylabel('Atom Coordinates')\n",
    "plt.title('1D Scatter Plot of Atom Coordinates')\n",
    "plt.show()"
   ]
  },
  {
   "cell_type": "code",
   "execution_count": null,
   "metadata": {},
   "outputs": [],
   "source": []
  },
  {
   "cell_type": "code",
   "execution_count": null,
   "metadata": {},
   "outputs": [],
   "source": []
  },
  {
   "cell_type": "code",
   "execution_count": null,
   "metadata": {},
   "outputs": [],
   "source": []
  },
  {
   "cell_type": "code",
   "execution_count": null,
   "metadata": {},
   "outputs": [],
   "source": []
  },
  {
   "cell_type": "code",
   "execution_count": null,
   "metadata": {},
   "outputs": [],
   "source": []
  },
  {
   "cell_type": "code",
   "execution_count": null,
   "metadata": {},
   "outputs": [],
   "source": []
  },
  {
   "cell_type": "code",
   "execution_count": null,
   "metadata": {},
   "outputs": [],
   "source": []
  },
  {
   "cell_type": "code",
   "execution_count": null,
   "metadata": {},
   "outputs": [],
   "source": []
  },
  {
   "cell_type": "code",
   "execution_count": null,
   "metadata": {},
   "outputs": [],
   "source": []
  },
  {
   "cell_type": "code",
   "execution_count": null,
   "metadata": {},
   "outputs": [],
   "source": []
  },
  {
   "cell_type": "code",
   "execution_count": null,
   "metadata": {},
   "outputs": [],
   "source": [
    "# Data\n",
    "def lennard_jones_potential(r, eps=1e-1):\n",
    "    return 1 / (r+eps)**12 - 1 / (r+eps)**6\n",
    "\n",
    "def distances_matrix(coordinates):\n",
    "    matrix_size = coordinates.shape[0]\n",
    "    distances = torch.cdist(coordinates.view(-1, 1), coordinates.view(-1, 1))\n",
    "    indices = torch.triu_indices(matrix_size, matrix_size, offset=1)\n",
    "    distances = distances[indices[0], indices[1]]\n",
    "    return distances\n",
    "\n",
    "def simulate_stable_conformations(atom_coordinates, force_field=lennard_jones_potential, num_iterations=1000, lr=0.01):\n",
    "    optimizer = optim.Adam([atom_coordinates], lr=lr)\n",
    "    \n",
    "    for iteration in range(num_iterations):\n",
    "        potential_energy = torch.sum(force_field(distances_matrix(atom_coordinates)))\n",
    "\n",
    "        optimizer.zero_grad()\n",
    "        potential_energy.backward(retain_graph=True)\n",
    "        torch.nn.utils.clip_grad_norm_(atom_coordinates, 1)\n",
    "        optimizer.step()\n",
    "\n",
    "        if iteration % 500 == 0:\n",
    "            print(f\"Iteration {iteration}, Potential Energy: {potential_energy.item()}\")\n",
    "\n",
    "    return atom_coordinates"
   ]
  },
  {
   "cell_type": "code",
   "execution_count": null,
   "metadata": {},
   "outputs": [],
   "source": [
    "atom_coordinates()"
   ]
  },
  {
   "cell_type": "code",
   "execution_count": null,
   "metadata": {},
   "outputs": [],
   "source": [
    "stable_conformations"
   ]
  },
  {
   "cell_type": "code",
   "execution_count": null,
   "metadata": {},
   "outputs": [],
   "source": []
  },
  {
   "cell_type": "code",
   "execution_count": null,
   "metadata": {},
   "outputs": [],
   "source": []
  },
  {
   "cell_type": "code",
   "execution_count": null,
   "metadata": {},
   "outputs": [],
   "source": [
    "a = torch.tensor([1., 4., 7.])\n",
    "b = torch.tensor([2., 3., 4.])\n",
    "dis = torch.cdist(a.view(-1, 1), b.view(-1, 1))\n",
    "print(dis)"
   ]
  },
  {
   "cell_type": "code",
   "execution_count": null,
   "metadata": {},
   "outputs": [],
   "source": [
    "a = torch.tensor([[1, 2, 3], [4, 5, 6], [7, 8, 9]])\n",
    "b = torch.tensor([[10, 10, 10], [10, 10, 10], [10, 10, 10]])\n",
    "torch.tril(a, diagonal=-1) + torch.triu(b, diagonal=0)"
   ]
  },
  {
   "cell_type": "code",
   "execution_count": null,
   "metadata": {},
   "outputs": [],
   "source": [
    "a.view(-1)"
   ]
  },
  {
   "cell_type": "code",
   "execution_count": null,
   "metadata": {},
   "outputs": [],
   "source": []
  },
  {
   "cell_type": "code",
   "execution_count": null,
   "metadata": {},
   "outputs": [],
   "source": [
    "# Create a square matrix\n",
    "matrix_size = 5\n",
    "matrix = torch.randn(matrix_size, matrix_size)\n",
    "\n",
    "# Get the upper triangle indices\n",
    "upper_triangle_indices = torch.triu_indices(matrix_size, matrix_size, offset=1)\n",
    "\n",
    "# Slice the upper triangle of the matrix\n",
    "upper_triangle_values = matrix[upper_triangle_indices[0], upper_triangle_indices[1]]\n",
    "\n",
    "print(\"Original Matrix:\")\n",
    "print(matrix)\n",
    "\n",
    "print(\"\\nUpper Triangle Values:\")\n",
    "print(upper_triangle_values)"
   ]
  },
  {
   "cell_type": "code",
   "execution_count": null,
   "metadata": {},
   "outputs": [],
   "source": []
  },
  {
   "cell_type": "code",
   "execution_count": null,
   "metadata": {},
   "outputs": [],
   "source": []
  }
 ],
 "metadata": {
  "kernelspec": {
   "display_name": "local-venv",
   "language": "python",
   "name": "local-venv"
  },
  "language_info": {
   "codemirror_mode": {
    "name": "ipython",
    "version": 3
   },
   "file_extension": ".py",
   "mimetype": "text/x-python",
   "name": "python",
   "nbconvert_exporter": "python",
   "pygments_lexer": "ipython3",
   "version": "3.8.10"
  }
 },
 "nbformat": 4,
 "nbformat_minor": 4
}
